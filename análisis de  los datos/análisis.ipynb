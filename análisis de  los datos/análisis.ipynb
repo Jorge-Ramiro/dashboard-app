{
 "cells": [
  {
   "cell_type": "code",
   "execution_count": 1,
   "metadata": {},
   "outputs": [],
   "source": [
    "import math\n",
    "import random\n",
    "import numpy as np\n",
    "import pandas as pd\n",
    "import zipfile\n",
    "import os\n",
    "import shutil\n",
    "import matplotlib.pyplot as plt\n",
    "plt.style.use(\"ggplot\")\n",
    "import seaborn as sns\n",
    "from plotly.subplots import make_subplots\n",
    "import plotly.graph_objects as go\n"
   ]
  },
  {
   "cell_type": "markdown",
   "metadata": {},
   "source": [
    "# Extracción de los datos"
   ]
  },
  {
   "cell_type": "markdown",
   "metadata": {},
   "source": [
    "## Conjunto de datos descomprimido"
   ]
  },
  {
   "cell_type": "code",
   "execution_count": 2,
   "metadata": {},
   "outputs": [],
   "source": [
    "if os.path.exists('dataset-zip/denue_00_31-33_csv.zip'):\n",
    "    with zipfile.ZipFile(\"dataset-zip/denue_00_31-33_csv.zip\", 'r') as zip_ref:\n",
    "        zip_ref.extractall(\"dataset-zip/\")"
   ]
  },
  {
   "cell_type": "markdown",
   "metadata": {},
   "source": [
    "## dataset convertido a encodign utf-8"
   ]
  },
  {
   "cell_type": "code",
   "execution_count": 3,
   "metadata": {},
   "outputs": [],
   "source": [
    "with open(\"dataset-zip/conjunto_de_datos/denue_inegi_31-33_.csv\", encoding=\"latin-1\") as file:\n",
    "            with open(\"dataset-zip/denue_inegi.csv\", \"w+\", encoding=\"utf-8\") as new_file:\n",
    "                for line in file:\n",
    "                    new_file.write(line)"
   ]
  },
  {
   "cell_type": "markdown",
   "metadata": {},
   "source": [
    "# Pequeño análisis exploratorio"
   ]
  },
  {
   "cell_type": "code",
   "execution_count": 4,
   "metadata": {},
   "outputs": [
    {
     "data": {
      "text/html": [
       "<div>\n",
       "<style scoped>\n",
       "    .dataframe tbody tr th:only-of-type {\n",
       "        vertical-align: middle;\n",
       "    }\n",
       "\n",
       "    .dataframe tbody tr th {\n",
       "        vertical-align: top;\n",
       "    }\n",
       "\n",
       "    .dataframe thead th {\n",
       "        text-align: right;\n",
       "    }\n",
       "</style>\n",
       "<table border=\"1\" class=\"dataframe\">\n",
       "  <thead>\n",
       "    <tr style=\"text-align: right;\">\n",
       "      <th></th>\n",
       "      <th>id</th>\n",
       "      <th>clee</th>\n",
       "      <th>nom_estab</th>\n",
       "      <th>raz_social</th>\n",
       "      <th>codigo_act</th>\n",
       "      <th>nombre_act</th>\n",
       "      <th>per_ocu</th>\n",
       "      <th>tipo_vial</th>\n",
       "      <th>nom_vial</th>\n",
       "      <th>tipo_v_e_1</th>\n",
       "      <th>...</th>\n",
       "      <th>localidad</th>\n",
       "      <th>ageb</th>\n",
       "      <th>manzana</th>\n",
       "      <th>telefono</th>\n",
       "      <th>correoelec</th>\n",
       "      <th>www</th>\n",
       "      <th>tipoUniEco</th>\n",
       "      <th>latitud</th>\n",
       "      <th>longitud</th>\n",
       "      <th>fecha_alta</th>\n",
       "    </tr>\n",
       "  </thead>\n",
       "  <tbody>\n",
       "    <tr>\n",
       "      <th>0</th>\n",
       "      <td>32374</td>\n",
       "      <td>01001311812004094000000000U8</td>\n",
       "      <td>4 HERMANOS</td>\n",
       "      <td>NaN</td>\n",
       "      <td>311812</td>\n",
       "      <td>Panificación tradicional</td>\n",
       "      <td>31 a 50 personas</td>\n",
       "      <td>CALLE</td>\n",
       "      <td>LIMA</td>\n",
       "      <td>CALLE</td>\n",
       "      <td>...</td>\n",
       "      <td>Aguascalientes                                ...</td>\n",
       "      <td>2047</td>\n",
       "      <td>32</td>\n",
       "      <td>4499168611</td>\n",
       "      <td>AGELICADELHER@HOTMAIL.COM</td>\n",
       "      <td>NaN</td>\n",
       "      <td>Fijo</td>\n",
       "      <td>21.872900</td>\n",
       "      <td>-102.308631</td>\n",
       "      <td>2014-12</td>\n",
       "    </tr>\n",
       "    <tr>\n",
       "      <th>1</th>\n",
       "      <td>6710478</td>\n",
       "      <td>01001315223001071001000000U5</td>\n",
       "      <td>4M COMERCIALIZADORA</td>\n",
       "      <td>4M COMERCIALIZADORA SA DE CV</td>\n",
       "      <td>315223</td>\n",
       "      <td>Confección en serie de uniformes</td>\n",
       "      <td>31 a 50 personas</td>\n",
       "      <td>CALLE</td>\n",
       "      <td>TIZIANO</td>\n",
       "      <td>CALLE</td>\n",
       "      <td>...</td>\n",
       "      <td>Aguascalientes                                ...</td>\n",
       "      <td>0587</td>\n",
       "      <td>15</td>\n",
       "      <td>NaN</td>\n",
       "      <td>CUATROMCOMENRCIALIZADORA@HOTMAIL.COM</td>\n",
       "      <td>NaN</td>\n",
       "      <td>Fijo</td>\n",
       "      <td>21.880054</td>\n",
       "      <td>-102.321495</td>\n",
       "      <td>2016-01</td>\n",
       "    </tr>\n",
       "    <tr>\n",
       "      <th>2</th>\n",
       "      <td>9201426</td>\n",
       "      <td>01001315229003211000026910S2</td>\n",
       "      <td>4M COMERCIALIZADORA</td>\n",
       "      <td>NaN</td>\n",
       "      <td>315229</td>\n",
       "      <td>Confección en serie de otra ropa exterior de m...</td>\n",
       "      <td>0 a 5 personas</td>\n",
       "      <td>CALLE</td>\n",
       "      <td>NAVARRETE</td>\n",
       "      <td>PRIVADA</td>\n",
       "      <td>...</td>\n",
       "      <td>Aguascalientes                                ...</td>\n",
       "      <td>0591</td>\n",
       "      <td>22</td>\n",
       "      <td>NaN</td>\n",
       "      <td>4MCOMERCIALIZADORA@TELMEXMAIL.COM</td>\n",
       "      <td>NaN</td>\n",
       "      <td>Fijo</td>\n",
       "      <td>21.877449</td>\n",
       "      <td>-102.317161</td>\n",
       "      <td>2019-11</td>\n",
       "    </tr>\n",
       "    <tr>\n",
       "      <th>3</th>\n",
       "      <td>40895</td>\n",
       "      <td>01001315229001953001026910M1</td>\n",
       "      <td>4M COMERCIALIZADORA SA DE CV</td>\n",
       "      <td>4M COMERCIALIZADORA SA DE CV</td>\n",
       "      <td>315229</td>\n",
       "      <td>Confección en serie de otra ropa exterior de m...</td>\n",
       "      <td>51 a 100 personas</td>\n",
       "      <td>CALLE</td>\n",
       "      <td>PROLONGACIÓN AQUILES ELORDUY</td>\n",
       "      <td>CALLE</td>\n",
       "      <td>...</td>\n",
       "      <td>Aguascalientes                                ...</td>\n",
       "      <td>0587</td>\n",
       "      <td>15</td>\n",
       "      <td>NaN</td>\n",
       "      <td>4MCOMERCIALIZADORA@TELMEXMAIL.COM</td>\n",
       "      <td>NaN</td>\n",
       "      <td>Fijo</td>\n",
       "      <td>21.880589</td>\n",
       "      <td>-102.321566</td>\n",
       "      <td>2014-12</td>\n",
       "    </tr>\n",
       "    <tr>\n",
       "      <th>4</th>\n",
       "      <td>6923705</td>\n",
       "      <td>01001311812005472000000000U5</td>\n",
       "      <td>ABUELA PANES</td>\n",
       "      <td>NaN</td>\n",
       "      <td>311812</td>\n",
       "      <td>Panificación tradicional</td>\n",
       "      <td>6 a 10 personas</td>\n",
       "      <td>CALLE</td>\n",
       "      <td>GENERAL MIGUEL BARRAGAN</td>\n",
       "      <td>CALLE</td>\n",
       "      <td>...</td>\n",
       "      <td>Aguascalientes                                ...</td>\n",
       "      <td>052A</td>\n",
       "      <td>25</td>\n",
       "      <td>NaN</td>\n",
       "      <td>NaN</td>\n",
       "      <td>NaN</td>\n",
       "      <td>Fijo</td>\n",
       "      <td>21.890436</td>\n",
       "      <td>-102.289305</td>\n",
       "      <td>2019-11</td>\n",
       "    </tr>\n",
       "  </tbody>\n",
       "</table>\n",
       "<p>5 rows × 42 columns</p>\n",
       "</div>"
      ],
      "text/plain": [
       "        id                          clee                     nom_estab  \\\n",
       "0    32374  01001311812004094000000000U8                    4 HERMANOS   \n",
       "1  6710478  01001315223001071001000000U5           4M COMERCIALIZADORA   \n",
       "2  9201426  01001315229003211000026910S2           4M COMERCIALIZADORA   \n",
       "3    40895  01001315229001953001026910M1  4M COMERCIALIZADORA SA DE CV   \n",
       "4  6923705  01001311812005472000000000U5                  ABUELA PANES   \n",
       "\n",
       "                     raz_social  codigo_act  \\\n",
       "0                           NaN      311812   \n",
       "1  4M COMERCIALIZADORA SA DE CV      315223   \n",
       "2                           NaN      315229   \n",
       "3  4M COMERCIALIZADORA SA DE CV      315229   \n",
       "4                           NaN      311812   \n",
       "\n",
       "                                          nombre_act            per_ocu  \\\n",
       "0                           Panificación tradicional   31 a 50 personas   \n",
       "1                   Confección en serie de uniformes   31 a 50 personas   \n",
       "2  Confección en serie de otra ropa exterior de m...     0 a 5 personas   \n",
       "3  Confección en serie de otra ropa exterior de m...  51 a 100 personas   \n",
       "4                           Panificación tradicional    6 a 10 personas   \n",
       "\n",
       "  tipo_vial                      nom_vial tipo_v_e_1  ...  \\\n",
       "0     CALLE                          LIMA      CALLE  ...   \n",
       "1     CALLE                       TIZIANO      CALLE  ...   \n",
       "2     CALLE                     NAVARRETE    PRIVADA  ...   \n",
       "3     CALLE  PROLONGACIÓN AQUILES ELORDUY      CALLE  ...   \n",
       "4     CALLE       GENERAL MIGUEL BARRAGAN      CALLE  ...   \n",
       "\n",
       "                                           localidad  ageb manzana  \\\n",
       "0  Aguascalientes                                ...  2047      32   \n",
       "1  Aguascalientes                                ...  0587      15   \n",
       "2  Aguascalientes                                ...  0591      22   \n",
       "3  Aguascalientes                                ...  0587      15   \n",
       "4  Aguascalientes                                ...  052A      25   \n",
       "\n",
       "     telefono                            correoelec  www tipoUniEco  \\\n",
       "0  4499168611             AGELICADELHER@HOTMAIL.COM  NaN       Fijo   \n",
       "1         NaN  CUATROMCOMENRCIALIZADORA@HOTMAIL.COM  NaN       Fijo   \n",
       "2         NaN     4MCOMERCIALIZADORA@TELMEXMAIL.COM  NaN       Fijo   \n",
       "3         NaN     4MCOMERCIALIZADORA@TELMEXMAIL.COM  NaN       Fijo   \n",
       "4         NaN                                   NaN  NaN       Fijo   \n",
       "\n",
       "     latitud    longitud  fecha_alta  \n",
       "0  21.872900 -102.308631     2014-12  \n",
       "1  21.880054 -102.321495     2016-01  \n",
       "2  21.877449 -102.317161     2019-11  \n",
       "3  21.880589 -102.321566     2014-12  \n",
       "4  21.890436 -102.289305     2019-11  \n",
       "\n",
       "[5 rows x 42 columns]"
      ]
     },
     "execution_count": 4,
     "metadata": {},
     "output_type": "execute_result"
    }
   ],
   "source": [
    "df = pd.read_csv('dataset-zip/denue_inegi.csv', low_memory=False)\n",
    "df.head()"
   ]
  },
  {
   "cell_type": "code",
   "execution_count": 5,
   "metadata": {},
   "outputs": [
    {
     "name": "stdout",
     "output_type": "stream",
     "text": [
      "<class 'pandas.core.frame.DataFrame'>\n",
      "RangeIndex: 608256 entries, 0 to 608255\n",
      "Data columns (total 42 columns):\n",
      " #   Column      Non-Null Count   Dtype  \n",
      "---  ------      --------------   -----  \n",
      " 0   id          608256 non-null  int64  \n",
      " 1   clee        608256 non-null  object \n",
      " 2   nom_estab   608256 non-null  object \n",
      " 3   raz_social  52666 non-null   object \n",
      " 4   codigo_act  608256 non-null  int64  \n",
      " 5   nombre_act  608256 non-null  object \n",
      " 6   per_ocu     608256 non-null  object \n",
      " 7   tipo_vial   607600 non-null  object \n",
      " 8   nom_vial    608243 non-null  object \n",
      " 9   tipo_v_e_1  607502 non-null  object \n",
      " 10  nom_v_e_1   607738 non-null  object \n",
      " 11  tipo_v_e_2  607488 non-null  object \n",
      " 12  nom_v_e_2   607730 non-null  object \n",
      " 13  tipo_v_e_3  607420 non-null  object \n",
      " 14  nom_v_e_3   607706 non-null  object \n",
      " 15  numero_ext  412599 non-null  float64\n",
      " 16  letra_ext   338374 non-null  object \n",
      " 17  edificio    13317 non-null   object \n",
      " 18  edificio_e  13660 non-null   object \n",
      " 19  numero_int  199435 non-null  float64\n",
      " 20  letra_int   11735 non-null   object \n",
      " 21  tipo_asent  607958 non-null  object \n",
      " 22  nomb_asent  608175 non-null  object \n",
      " 23  tipoCenCom  12994 non-null   object \n",
      " 24  nom_CenCom  12928 non-null   object \n",
      " 25  num_local   11698 non-null   object \n",
      " 26  cod_postal  602336 non-null  float64\n",
      " 27  cve_ent     608256 non-null  int64  \n",
      " 28  entidad     608256 non-null  object \n",
      " 29  cve_mun     608256 non-null  int64  \n",
      " 30  municipio   608256 non-null  object \n",
      " 31  cve_loc     608256 non-null  int64  \n",
      " 32  localidad   608256 non-null  object \n",
      " 33  ageb        608256 non-null  object \n",
      " 34  manzana     608256 non-null  int64  \n",
      " 35  telefono    178422 non-null  object \n",
      " 36  correoelec  59444 non-null   object \n",
      " 37  www         18943 non-null   object \n",
      " 38  tipoUniEco  608256 non-null  object \n",
      " 39  latitud     608256 non-null  float64\n",
      " 40  longitud    608256 non-null  float64\n",
      " 41  fecha_alta  608256 non-null  object \n",
      "dtypes: float64(5), int64(6), object(31)\n",
      "memory usage: 194.9+ MB\n"
     ]
    }
   ],
   "source": [
    "df.info()"
   ]
  },
  {
   "cell_type": "code",
   "execution_count": 6,
   "metadata": {},
   "outputs": [
    {
     "data": {
      "text/html": [
       "<div>\n",
       "<style scoped>\n",
       "    .dataframe tbody tr th:only-of-type {\n",
       "        vertical-align: middle;\n",
       "    }\n",
       "\n",
       "    .dataframe tbody tr th {\n",
       "        vertical-align: top;\n",
       "    }\n",
       "\n",
       "    .dataframe thead th {\n",
       "        text-align: right;\n",
       "    }\n",
       "</style>\n",
       "<table border=\"1\" class=\"dataframe\">\n",
       "  <thead>\n",
       "    <tr style=\"text-align: right;\">\n",
       "      <th></th>\n",
       "      <th>id</th>\n",
       "      <th>codigo_act</th>\n",
       "      <th>numero_ext</th>\n",
       "      <th>numero_int</th>\n",
       "      <th>cod_postal</th>\n",
       "      <th>cve_ent</th>\n",
       "      <th>cve_mun</th>\n",
       "      <th>cve_loc</th>\n",
       "      <th>manzana</th>\n",
       "      <th>latitud</th>\n",
       "      <th>longitud</th>\n",
       "    </tr>\n",
       "  </thead>\n",
       "  <tbody>\n",
       "    <tr>\n",
       "      <th>count</th>\n",
       "      <td>6.082560e+05</td>\n",
       "      <td>608256.000000</td>\n",
       "      <td>412599.000000</td>\n",
       "      <td>199435.000000</td>\n",
       "      <td>602336.000000</td>\n",
       "      <td>608256.000000</td>\n",
       "      <td>608256.000000</td>\n",
       "      <td>608256.000000</td>\n",
       "      <td>608256.000000</td>\n",
       "      <td>608256.000000</td>\n",
       "      <td>608256.000000</td>\n",
       "    </tr>\n",
       "    <tr>\n",
       "      <th>mean</th>\n",
       "      <td>5.077178e+06</td>\n",
       "      <td>319896.083984</td>\n",
       "      <td>476.170771</td>\n",
       "      <td>11.999007</td>\n",
       "      <td>58197.950340</td>\n",
       "      <td>17.243587</td>\n",
       "      <td>67.833195</td>\n",
       "      <td>14.937934</td>\n",
       "      <td>22.632523</td>\n",
       "      <td>20.355948</td>\n",
       "      <td>-99.408788</td>\n",
       "    </tr>\n",
       "    <tr>\n",
       "      <th>std</th>\n",
       "      <td>2.915172e+06</td>\n",
       "      <td>9383.751255</td>\n",
       "      <td>1612.175493</td>\n",
       "      <td>282.304803</td>\n",
       "      <td>24049.869194</td>\n",
       "      <td>7.535864</td>\n",
       "      <td>89.763721</td>\n",
       "      <td>86.623897</td>\n",
       "      <td>54.791516</td>\n",
       "      <td>3.192271</td>\n",
       "      <td>4.693348</td>\n",
       "    </tr>\n",
       "    <tr>\n",
       "      <th>min</th>\n",
       "      <td>6.000000e+00</td>\n",
       "      <td>311110.000000</td>\n",
       "      <td>0.000000</td>\n",
       "      <td>0.000000</td>\n",
       "      <td>0.000000</td>\n",
       "      <td>1.000000</td>\n",
       "      <td>1.000000</td>\n",
       "      <td>1.000000</td>\n",
       "      <td>1.000000</td>\n",
       "      <td>14.589987</td>\n",
       "      <td>-117.121477</td>\n",
       "    </tr>\n",
       "    <tr>\n",
       "      <th>25%</th>\n",
       "      <td>2.534351e+06</td>\n",
       "      <td>311830.000000</td>\n",
       "      <td>4.000000</td>\n",
       "      <td>0.000000</td>\n",
       "      <td>40290.000000</td>\n",
       "      <td>12.000000</td>\n",
       "      <td>16.000000</td>\n",
       "      <td>1.000000</td>\n",
       "      <td>7.000000</td>\n",
       "      <td>18.813335</td>\n",
       "      <td>-101.586706</td>\n",
       "    </tr>\n",
       "    <tr>\n",
       "      <th>50%</th>\n",
       "      <td>4.523045e+06</td>\n",
       "      <td>315192.000000</td>\n",
       "      <td>59.000000</td>\n",
       "      <td>0.000000</td>\n",
       "      <td>59120.000000</td>\n",
       "      <td>16.000000</td>\n",
       "      <td>39.000000</td>\n",
       "      <td>1.000000</td>\n",
       "      <td>16.000000</td>\n",
       "      <td>19.591407</td>\n",
       "      <td>-99.144577</td>\n",
       "    </tr>\n",
       "    <tr>\n",
       "      <th>75%</th>\n",
       "      <td>7.836460e+06</td>\n",
       "      <td>327310.000000</td>\n",
       "      <td>312.000000</td>\n",
       "      <td>0.000000</td>\n",
       "      <td>75597.000000</td>\n",
       "      <td>21.000000</td>\n",
       "      <td>87.000000</td>\n",
       "      <td>1.000000</td>\n",
       "      <td>27.000000</td>\n",
       "      <td>20.905749</td>\n",
       "      <td>-97.473959</td>\n",
       "    </tr>\n",
       "    <tr>\n",
       "      <th>max</th>\n",
       "      <td>9.387835e+06</td>\n",
       "      <td>339999.000000</td>\n",
       "      <td>99999.000000</td>\n",
       "      <td>56885.000000</td>\n",
       "      <td>99999.000000</td>\n",
       "      <td>32.000000</td>\n",
       "      <td>570.000000</td>\n",
       "      <td>5663.000000</td>\n",
       "      <td>800.000000</td>\n",
       "      <td>32.718112</td>\n",
       "      <td>-86.723318</td>\n",
       "    </tr>\n",
       "  </tbody>\n",
       "</table>\n",
       "</div>"
      ],
      "text/plain": [
       "                 id     codigo_act     numero_ext     numero_int  \\\n",
       "count  6.082560e+05  608256.000000  412599.000000  199435.000000   \n",
       "mean   5.077178e+06  319896.083984     476.170771      11.999007   \n",
       "std    2.915172e+06    9383.751255    1612.175493     282.304803   \n",
       "min    6.000000e+00  311110.000000       0.000000       0.000000   \n",
       "25%    2.534351e+06  311830.000000       4.000000       0.000000   \n",
       "50%    4.523045e+06  315192.000000      59.000000       0.000000   \n",
       "75%    7.836460e+06  327310.000000     312.000000       0.000000   \n",
       "max    9.387835e+06  339999.000000   99999.000000   56885.000000   \n",
       "\n",
       "          cod_postal        cve_ent        cve_mun        cve_loc  \\\n",
       "count  602336.000000  608256.000000  608256.000000  608256.000000   \n",
       "mean    58197.950340      17.243587      67.833195      14.937934   \n",
       "std     24049.869194       7.535864      89.763721      86.623897   \n",
       "min         0.000000       1.000000       1.000000       1.000000   \n",
       "25%     40290.000000      12.000000      16.000000       1.000000   \n",
       "50%     59120.000000      16.000000      39.000000       1.000000   \n",
       "75%     75597.000000      21.000000      87.000000       1.000000   \n",
       "max     99999.000000      32.000000     570.000000    5663.000000   \n",
       "\n",
       "             manzana        latitud       longitud  \n",
       "count  608256.000000  608256.000000  608256.000000  \n",
       "mean       22.632523      20.355948     -99.408788  \n",
       "std        54.791516       3.192271       4.693348  \n",
       "min         1.000000      14.589987    -117.121477  \n",
       "25%         7.000000      18.813335    -101.586706  \n",
       "50%        16.000000      19.591407     -99.144577  \n",
       "75%        27.000000      20.905749     -97.473959  \n",
       "max       800.000000      32.718112     -86.723318  "
      ]
     },
     "execution_count": 6,
     "metadata": {},
     "output_type": "execute_result"
    }
   ],
   "source": [
    "df.describe()"
   ]
  },
  {
   "cell_type": "markdown",
   "metadata": {},
   "source": [
    "# Preguntas con base en los datos"
   ]
  },
  {
   "cell_type": "markdown",
   "metadata": {},
   "source": [
    "¿Cuales son los estados con mayor y menor número de industrias manufactureras?\n",
    "\n",
    "¿Cual es la distribución de personal ocupado en las industrias?\n",
    "\n",
    "¿En que año se registro mayor alta de industrias manufactureras en el país?\n",
    "\n",
    "¿Existe algún tipo de actividad realizada por las industrias que tenga mayor predominancia en el norte, centro y sur del país? (que este en top 3 de al menos 4 estados para el norte, 7 para el centro y 5 para el sur).\n",
    "\n",
    "top: Total de registros de empresas que realizan la misma actividad por estado.\n",
    "\n",
    "--------------------\n",
    "Norte del país:\n",
    "\n",
    "*   Baja california\n",
    "*   Sonora\n",
    "*   Chihuahua\n",
    "*   Coahuila\n",
    "*   Nuevo León\n",
    "*   Tamaulipas\n",
    "\n",
    "Sur del país:\n",
    "\n",
    "*   Campeche\n",
    "*   Chiapas\n",
    "*   Guerrero\n",
    "*   Oaxaca\n",
    "*   Puebla\n",
    "*   Quintana Roo\n",
    "*   Tabasco\n",
    "*   Veracruz\n",
    "*   Yucatán\n"
   ]
  },
  {
   "cell_type": "markdown",
   "metadata": {},
   "source": [
    "# respondiendo las preguntas"
   ]
  },
  {
   "cell_type": "markdown",
   "metadata": {},
   "source": [
    "### Pregunta 1"
   ]
  },
  {
   "cell_type": "code",
   "execution_count": 7,
   "metadata": {},
   "outputs": [],
   "source": [
    "def graphAnnotate(pointX, pointY, pointTextX, pointTextY, text, rad):\n",
    "    note = plt.annotate(text,\n",
    "    xy=(pointX, pointY),\n",
    "    xytext=(pointTextX, pointTextY),\n",
    "    fontsize=9,\n",
    "    arrowprops=dict(arrowstyle=\"->\",\n",
    "    connectionstyle=f\"arc3,rad={rad}\", color=\"k\"))\n",
    "\n",
    "    return note"
   ]
  },
  {
   "cell_type": "code",
   "execution_count": 8,
   "metadata": {},
   "outputs": [
    {
     "data": {
      "text/html": [
       "<div>\n",
       "<style scoped>\n",
       "    .dataframe tbody tr th:only-of-type {\n",
       "        vertical-align: middle;\n",
       "    }\n",
       "\n",
       "    .dataframe tbody tr th {\n",
       "        vertical-align: top;\n",
       "    }\n",
       "\n",
       "    .dataframe thead th {\n",
       "        text-align: right;\n",
       "    }\n",
       "</style>\n",
       "<table border=\"1\" class=\"dataframe\">\n",
       "  <thead>\n",
       "    <tr style=\"text-align: right;\">\n",
       "      <th></th>\n",
       "      <th>state</th>\n",
       "      <th>state code</th>\n",
       "      <th>size</th>\n",
       "      <th>relative frequency</th>\n",
       "    </tr>\n",
       "  </thead>\n",
       "  <tbody>\n",
       "    <tr>\n",
       "      <th>16</th>\n",
       "      <td>México</td>\n",
       "      <td>15</td>\n",
       "      <td>64989</td>\n",
       "      <td>10.684482</td>\n",
       "    </tr>\n",
       "    <tr>\n",
       "      <th>2</th>\n",
       "      <td>Baja California Sur</td>\n",
       "      <td>3</td>\n",
       "      <td>2791</td>\n",
       "      <td>0.458853</td>\n",
       "    </tr>\n",
       "  </tbody>\n",
       "</table>\n",
       "</div>"
      ],
      "text/plain": [
       "                  state  state code   size  relative frequency\n",
       "16               México          15  64989           10.684482\n",
       "2   Baja California Sur           3   2791            0.458853"
      ]
     },
     "execution_count": 8,
     "metadata": {},
     "output_type": "execute_result"
    }
   ],
   "source": [
    "groupedvalues = df.groupby(['entidad', \"cve_ent\"], as_index=False).size().sort_values(by=\"size\", ascending=False).rename(\n",
    "    columns={'cve_ent': 'state code', 'entidad': 'state'})\n",
    "groupedvalues['relative frequency'] = groupedvalues['size'].apply(lambda x: (x / len(df['entidad'])) * 100)\n",
    "groupedvalues.iloc[[0,-1], :] # obteniendo los registros con mayor y menor número "
   ]
  },
  {
   "cell_type": "code",
   "execution_count": 9,
   "metadata": {},
   "outputs": [
    {
     "data": {
      "image/png": "[encoded data removed]",
      "text/plain": [
       "<Figure size 640x480 with 1 Axes>"
      ]
     },
     "metadata": {},
     "output_type": "display_data"
    }
   ],
   "source": [
    "state_more_records = groupedvalues.loc[16, 'relative frequency']\n",
    "state_lest_records = groupedvalues.loc[2, 'relative frequency']\n",
    "sns.barplot(x=groupedvalues['size'], y=groupedvalues['state'])\n",
    "note_1 = graphAnnotate(64989, 0, 40000, 5, f'Frecuencia relativa: {state_more_records: .2f}%', '.4')\n",
    "note_2 = graphAnnotate(2791, 31, 7000, 29, f'Frecuencia relativa: {state_lest_records: .2f}%', '-.2')\n",
    "\n"
   ]
  },
  {
   "cell_type": "markdown",
   "metadata": {},
   "source": [
    "como se puede observar de la tabla y complementado con la gráfica podemos decir con certeza que el estado con un mayor número de registros es **México** y el estado con menor es **Baja California Sur**"
   ]
  },
  {
   "cell_type": "markdown",
   "metadata": {},
   "source": [
    "### Pregunta 2"
   ]
  },
  {
   "cell_type": "code",
   "execution_count": 10,
   "metadata": {},
   "outputs": [],
   "source": [
    "df['personal_ocu'] = df['per_ocu'].apply(lambda x: x[:-9])"
   ]
  },
  {
   "cell_type": "code",
   "execution_count": 11,
   "metadata": {},
   "outputs": [],
   "source": [
    "df['code_per_ocu'] = df['personal_ocu'].apply(lambda x: '1' if x == '0 a 5' else (\n",
    "    '2' if x == '6 a 10' else ('3' if x == '11 a 30' else (\n",
    "        '4' if x == '31 a 50' else ('5' if x == '51 a 100' else (\n",
    "            '6' if x == '101 a 250' else '7'))\n",
    "    ))\n",
    "))"
   ]
  },
  {
   "cell_type": "code",
   "execution_count": 12,
   "metadata": {},
   "outputs": [],
   "source": [
    "df_sorted = df['code_per_ocu'].sort_values()"
   ]
  },
  {
   "cell_type": "code",
   "execution_count": 13,
   "metadata": {},
   "outputs": [
    {
     "data": {
      "text/html": [
       "<div>\n",
       "<style scoped>\n",
       "    .dataframe tbody tr th:only-of-type {\n",
       "        vertical-align: middle;\n",
       "    }\n",
       "\n",
       "    .dataframe tbody tr th {\n",
       "        vertical-align: top;\n",
       "    }\n",
       "\n",
       "    .dataframe thead th {\n",
       "        text-align: right;\n",
       "    }\n",
       "</style>\n",
       "<table border=\"1\" class=\"dataframe\">\n",
       "  <thead>\n",
       "    <tr style=\"text-align: right;\">\n",
       "      <th></th>\n",
       "      <th>code_per_ocu</th>\n",
       "      <th>per_ocu</th>\n",
       "    </tr>\n",
       "  </thead>\n",
       "  <tbody>\n",
       "    <tr>\n",
       "      <th>0</th>\n",
       "      <td>1</td>\n",
       "      <td>0 a 5 personas</td>\n",
       "    </tr>\n",
       "    <tr>\n",
       "      <th>1</th>\n",
       "      <td>2</td>\n",
       "      <td>6 a 10 personas</td>\n",
       "    </tr>\n",
       "    <tr>\n",
       "      <th>2</th>\n",
       "      <td>3</td>\n",
       "      <td>11 a 30 personas</td>\n",
       "    </tr>\n",
       "    <tr>\n",
       "      <th>3</th>\n",
       "      <td>4</td>\n",
       "      <td>31 a 50 personas</td>\n",
       "    </tr>\n",
       "    <tr>\n",
       "      <th>4</th>\n",
       "      <td>5</td>\n",
       "      <td>51 a 100 personas</td>\n",
       "    </tr>\n",
       "    <tr>\n",
       "      <th>5</th>\n",
       "      <td>6</td>\n",
       "      <td>101 a 250 personas</td>\n",
       "    </tr>\n",
       "    <tr>\n",
       "      <th>6</th>\n",
       "      <td>7</td>\n",
       "      <td>251 y más personas</td>\n",
       "    </tr>\n",
       "  </tbody>\n",
       "</table>\n",
       "</div>"
      ],
      "text/plain": [
       "  code_per_ocu             per_ocu\n",
       "0            1      0 a 5 personas\n",
       "1            2     6 a 10 personas\n",
       "2            3    11 a 30 personas\n",
       "3            4    31 a 50 personas\n",
       "4            5   51 a 100 personas\n",
       "5            6  101 a 250 personas\n",
       "6            7  251 y más personas"
      ]
     },
     "execution_count": 13,
     "metadata": {},
     "output_type": "execute_result"
    }
   ],
   "source": [
    "dict_code_personal = df.groupby(['code_per_ocu', 'per_ocu'], as_index=False).size().drop(columns='size')\n",
    "dict_code_personal"
   ]
  },
  {
   "cell_type": "markdown",
   "metadata": {},
   "source": [
    "La tabla anterior muestra el código y el significado que ese código representa.\n",
    "\n",
    "Esta tabla nos permitira ver con mayor claridad la distribución de personal ocupado por las empresas en los siguientes histogramas"
   ]
  },
  {
   "cell_type": "code",
   "execution_count": 14,
   "metadata": {},
   "outputs": [
    {
     "data": {
      "text/plain": [
       "<AxesSubplot:xlabel='code_per_ocu', ylabel='Count'>"
      ]
     },
     "execution_count": 14,
     "metadata": {},
     "output_type": "execute_result"
    },
    {
     "data": {
      "image/png": "[encoded data removed]",
      "text/plain": [
       "<Figure size 640x480 with 1 Axes>"
      ]
     },
     "metadata": {},
     "output_type": "display_data"
    }
   ],
   "source": [
    "sns.histplot(df_sorted)"
   ]
  },
  {
   "cell_type": "markdown",
   "metadata": {},
   "source": [
    "Como podemos observar existe un gran sesgo hacia la izquierda concentrandoce los datos mayormente en el código 1 seguido por el 2 y 3.\n",
    "\n",
    "El cógigo 1 al contar con el mayor número de registro no permite visualizar correctamente la dimesión de los demás rangos por lo cual lo eliminaremos momentaneamente para tener un mejor panorama de los otros códigos.\n",
    "\n"
   ]
  },
  {
   "cell_type": "code",
   "execution_count": 15,
   "metadata": {},
   "outputs": [
    {
     "data": {
      "text/plain": [
       "<AxesSubplot:xlabel='code_per_ocu', ylabel='Count'>"
      ]
     },
     "execution_count": 15,
     "metadata": {},
     "output_type": "execute_result"
    },
    {
     "data": {
      "image/png": "[encoded data removed]",
      "text/plain": [
       "<Figure size 640x480 with 1 Axes>"
      ]
     },
     "metadata": {},
     "output_type": "display_data"
    }
   ],
   "source": [
    "sns.histplot(df_sorted[df_sorted.values != '1'])"
   ]
  },
  {
   "cell_type": "markdown",
   "metadata": {},
   "source": [
    "Al eliminar la mayor concentración de datos podemos observar con mayor exactitud la dimensión de los rangos restantes y ahora podemos decir con certeza que sigue existiendo un sesgo hacia la izquierda.\n",
    "\n",
    "por lo cual podemos inferir que nuestra distribución de personal ocupado por las empresas se encuentra mayormente en el rango de **0 a 5 personas**, seguido por los rangos de **6 a 10 personas** y **11 a 30 personas**."
   ]
  },
  {
   "cell_type": "markdown",
   "metadata": {},
   "source": [
    "### Pregunta 3"
   ]
  },
  {
   "cell_type": "code",
   "execution_count": 16,
   "metadata": {},
   "outputs": [],
   "source": [
    "df['registration year'] = df['fecha_alta'].apply(lambda x: x[:4])"
   ]
  },
  {
   "cell_type": "code",
   "execution_count": 17,
   "metadata": {},
   "outputs": [],
   "source": [
    "time_series = df.groupby(['registration year'], as_index=False).size()"
   ]
  },
  {
   "cell_type": "code",
   "execution_count": 18,
   "metadata": {},
   "outputs": [
    {
     "data": {
      "image/png": "[encoded data removed]",
      "text/plain": [
       "<Figure size 640x480 with 1 Axes>"
      ]
     },
     "metadata": {},
     "output_type": "display_data"
    }
   ],
   "source": [
    "x = time_series['registration year']\n",
    "y = time_series['size']\n",
    "graph_time = plt.plot(x, y)\n",
    "px = '2019'\n",
    "py = time_series.max()[1]\n",
    "punto = plt.plot([px], [py], 'bo')\n",
    "\n",
    "note = graphAnnotate(px, py, '2014', py, f'{py} records', '.3')\n",
    "\n",
    "plt.xlabel('year of registration', loc='left')\n",
    "plt.ylabel('total records', loc='top')\n",
    "plt.show()"
   ]
  },
  {
   "cell_type": "markdown",
   "metadata": {},
   "source": [
    "El año con el mayor número de registros fue el **2019** con un total de **256914** industrias manufactureras registradas ante el INEGI."
   ]
  },
  {
   "cell_type": "markdown",
   "metadata": {},
   "source": [
    "### Pregunta 4"
   ]
  },
  {
   "cell_type": "code",
   "execution_count": 19,
   "metadata": {},
   "outputs": [],
   "source": [
    "msk_north = [\"Baja California\", \"Baja California Sur\", \"Sonora\", \"Chihuahua\" , \"Coahuila de Zaragoza\", \"Nuevo León\", \"Tamaulipas\"]\n",
    "msk_south = [\"Campeche\", \"Chiapas\", \"Guerrero\", \"Oaxaca\", \"Puebla\", \"Quintana Roo\", \"Tabasco\", \"Veracruz de Ignacio de la Llave\", \"Yucatán\"]\n",
    "df['region'] = df['entidad'].apply(lambda x: \"norte\" if x in msk_north else (\"sur\" if x in msk_south else \"centro\"))"
   ]
  },
  {
   "cell_type": "code",
   "execution_count": 20,
   "metadata": {},
   "outputs": [],
   "source": [
    "def colorCss(n):\n",
    "    s='''aliceblue, antiquewhite, aqua, aquamarine, azure, beige, bisque, black, blanchedalmond, blue, \n",
    "    blueviolet, brown, burlywood, cadetblue, chartreuse, chocolate, coral, cornflowerblue, \n",
    "    cornsilk, crimson, cyan, darkblue, darkcyan, darkgoldenrod, darkgray, darkgrey, darkgreen, \n",
    "    darkkhaki, darkmagenta, darkolivegreen, darkorange, darkorchid, darkred, darksalmon, darkseagreen, \n",
    "    darkslateblue, darkslategray, darkslategrey, darkturquoise, darkviolet, deeppink, deepskyblue, \n",
    "    dimgray, dimgrey, dodgerblue, firebrick, floralwhite, forestgreen, fuchsia, gainsboro, \n",
    "    ghostwhite, gold, goldenrod, gray, grey, green, greenyellow, honeydew, hotpink, indianred, indigo, \n",
    "    ivory, khaki, lavender, lavenderblush, lawngreen, lemonchiffon, lightblue, lightcoral, lightcyan, \n",
    "    lightgoldenrodyellow, lightgray, lightgreen, lightpink, lightsalmon, lightseagreen, \n",
    "    lightskyblue, lightslategray, lightsteelblue, lightyellow, lime, limegreen, \n",
    "    linen, magenta, maroon, mediumaquamarine, mediumblue, mediumorchid, mediumpurple, \n",
    "    mediumseagreen, mediumslateblue, mediumspringgreen, mediumturquoise, mediumvioletred, midnightblue, \n",
    "    mintcream, mistyrose, moccasin, navajowhite, navy, oldlace, olive, olivedrab, orange, orangered, \n",
    "    orchid, palegoldenrod, palegreen, paleturquoise, palevioletred, papayawhip, peachpuff, peru, pink, \n",
    "    plum, powderblue, purple, red, rosybrown, royalblue, saddlebrown, salmon, sandybrown, \n",
    "    seagreen, seashell, sienna, silver, skyblue, slateblue, slategray, springgreen, \n",
    "    steelblue, tan, teal, thistle, tomato, turquoise, violet, wheat, yellow, yellowgreen'''\n",
    "    colors_css = s.split(\", \")\n",
    "    colors_css = [l.replace('\\n','') for l in colors_css]\n",
    "    if 0 <= n <= 140:\n",
    "        return colors_css[n]"
   ]
  },
  {
   "cell_type": "code",
   "execution_count": 21,
   "metadata": {},
   "outputs": [],
   "source": [
    "def graphRegionPlotly(dataframe, region):\n",
    "\n",
    "    states = dataframe[(dataframe['region'] == region)]['entidad'].unique()\n",
    "    num_plots = len(states)\n",
    "    num_cols = math.ceil(np.sqrt(num_plots))\n",
    "    num_rows = math.ceil(num_plots / num_cols)\n",
    "\n",
    "    activity_name = []\n",
    "    activity_color = {}\n",
    "    show_legend = True\n",
    "\n",
    "    count_row = 1\n",
    "    count_col = 1\n",
    "\n",
    "    # Initialize figure with subplots\n",
    "    fig = make_subplots(\n",
    "        rows=num_rows, cols=num_cols, \n",
    "        subplot_titles=([state for state in states]))\n",
    "    \n",
    "    for state in states:\n",
    "        colors = []\n",
    "        for index, value in dataframe[dataframe['entidad'] == state].loc[:,[\"codigo_act\", 'nombre_act']].value_counts()[:3].items():\n",
    "            if index[1] not in activity_color.keys():\n",
    "                activity_color[index[1]] = colorCss(random.randint(0, 140))\n",
    "            colors.append(activity_color[index[1]])\n",
    "\n",
    "            if index[0] not in activity_name:\n",
    "                activity_name.append(index[0])\n",
    "                show_legend = True\n",
    "            else:\n",
    "                show_legend = False\n",
    "\n",
    "            fig.add_trace(go.Bar(x=[str(index[0])], y=[value],\n",
    "                                legendgroup=index[1],\n",
    "                                legendgrouptitle_text=index[1],\n",
    "                                hovertext=index[1],\n",
    "                                marker_color=colors[-1],\n",
    "                                name=str(index[0]),\n",
    "                                showlegend=show_legend,\n",
    "                                hovertemplate='<i>Total</i>: %{y}'),\n",
    "                            row=count_row, col=count_col)\n",
    "\n",
    "            fig.update_xaxes(title_text=\"Activity Code\", row=count_row, col=count_col, titlefont=dict(size=13))\n",
    "            fig.update_yaxes(title_text=\"Total Industries\", row=count_row, col=1, titlefont=dict(size=13))\n",
    "        if count_col == num_cols:\n",
    "            count_col = 0\n",
    "            count_row += 1\n",
    "\n",
    "        count_col += 1\n",
    "\n",
    "    # Update title and height\n",
    "    fig.update_layout(title_text=\"Región \" + region, height=700, legend_title_text='Activity Name',\n",
    "                        legend=dict(title_font_family=\"Courier New, monospace\",\n",
    "                        font=dict(family=\"Courier\", size=12, color=\"black\"),\n",
    "                        bgcolor=\"whitesmoke\", bordercolor=\"Black\", borderwidth=1,\n",
    "                        grouptitlefont=dict(family=\"Courier New, monospace\", size=12, color=\"black\")))\n",
    "    return fig"
   ]
  },
  {
   "cell_type": "code",
   "execution_count": 22,
   "metadata": {},
   "outputs": [
    {
     "data": {
      "application/vnd.plotly.v1+json": {
       "config": {
        "plotlyServerURL": "https://plot.ly"
       },
       "data": [
        {
         "hovertemplate": "<i>Total</i>: %{y}",
         "hovertext": "Panificación tradicional",
         "legendgroup": "Panificación tradicional",
         "legendgrouptitle": {
          "text": "Panificación tradicional"
         },
         "marker": {
          "color": "red"
         },
         "name": "311812",
         "showlegend": true,
         "type": "bar",
         "x": [
          "311812"
         ],
         "xaxis": "x",
         "y": [
          837
         ],
         "yaxis": "y"
        },
        {
         "hovertemplate": "<i>Total</i>: %{y}",
         "hovertext": "Fabricación de productos de herrería",
         "legendgroup": "Fabricación de productos de herrería",
         "legendgrouptitle": {
          "text": "Fabricación de productos de herrería"
         },
         "marker": {
          "color": "limegreen"
         },
         "name": "332320",
         "showlegend": true,
         "type": "bar",
         "x": [
          "332320"
         ],
         "xaxis": "x",
         "y": [
          770
         ],
         "yaxis": "y"
        },
        {
         "hovertemplate": "<i>Total</i>: %{y}",
         "hovertext": "Elaboración de tortillas de maíz y molienda de nixtamal",
         "legendgroup": "Elaboración de tortillas de maíz y molienda de nixtamal",
         "legendgrouptitle": {
          "text": "Elaboración de tortillas de maíz y molienda de nixtamal"
         },
         "marker": {
          "color": "deeppink"
         },
         "name": "311830",
         "showlegend": true,
         "type": "bar",
         "x": [
          "311830"
         ],
         "xaxis": "x",
         "y": [
          701
         ],
         "yaxis": "y"
        },
        {
         "hovertemplate": "<i>Total</i>: %{y}",
         "hovertext": "Fabricación de productos de herrería",
         "legendgroup": "Fabricación de productos de herrería",
         "legendgrouptitle": {
          "text": "Fabricación de productos de herrería"
         },
         "marker": {
          "color": "limegreen"
         },
         "name": "332320",
         "showlegend": false,
         "type": "bar",
         "x": [
          "332320"
         ],
         "xaxis": "x2",
         "y": [
          449
         ],
         "yaxis": "y2"
        },
        {
         "hovertemplate": "<i>Total</i>: %{y}",
         "hovertext": "Purificación y embotellado de agua",
         "legendgroup": "Purificación y embotellado de agua",
         "legendgrouptitle": {
          "text": "Purificación y embotellado de agua"
         },
         "marker": {
          "color": "lightpink"
         },
         "name": "312112",
         "showlegend": true,
         "type": "bar",
         "x": [
          "312112"
         ],
         "xaxis": "x2",
         "y": [
          297
         ],
         "yaxis": "y2"
        },
        {
         "hovertemplate": "<i>Total</i>: %{y}",
         "hovertext": "Panificación tradicional",
         "legendgroup": "Panificación tradicional",
         "legendgrouptitle": {
          "text": "Panificación tradicional"
         },
         "marker": {
          "color": "red"
         },
         "name": "311812",
         "showlegend": false,
         "type": "bar",
         "x": [
          "311812"
         ],
         "xaxis": "x2",
         "y": [
          230
         ],
         "yaxis": "y2"
        },
        {
         "hovertemplate": "<i>Total</i>: %{y}",
         "hovertext": "Elaboración de tortillas de harina de trigo de forma tradicional",
         "legendgroup": "Elaboración de tortillas de harina de trigo de forma tradicional",
         "legendgrouptitle": {
          "text": "Elaboración de tortillas de harina de trigo de forma tradicional"
         },
         "marker": {
          "color": "springgreen"
         },
         "name": "311813",
         "showlegend": true,
         "type": "bar",
         "x": [
          "311813"
         ],
         "xaxis": "x3",
         "y": [
          1640
         ],
         "yaxis": "y3"
        },
        {
         "hovertemplate": "<i>Total</i>: %{y}",
         "hovertext": "Fabricación de productos de herrería",
         "legendgroup": "Fabricación de productos de herrería",
         "legendgrouptitle": {
          "text": "Fabricación de productos de herrería"
         },
         "marker": {
          "color": "limegreen"
         },
         "name": "332320",
         "showlegend": false,
         "type": "bar",
         "x": [
          "332320"
         ],
         "xaxis": "x3",
         "y": [
          1109
         ],
         "yaxis": "y3"
        },
        {
         "hovertemplate": "<i>Total</i>: %{y}",
         "hovertext": "Elaboración de tortillas de maíz y molienda de nixtamal",
         "legendgroup": "Elaboración de tortillas de maíz y molienda de nixtamal",
         "legendgrouptitle": {
          "text": "Elaboración de tortillas de maíz y molienda de nixtamal"
         },
         "marker": {
          "color": "deeppink"
         },
         "name": "311830",
         "showlegend": false,
         "type": "bar",
         "x": [
          "311830"
         ],
         "xaxis": "x3",
         "y": [
          963
         ],
         "yaxis": "y3"
        },
        {
         "hovertemplate": "<i>Total</i>: %{y}",
         "hovertext": "Fabricación de productos de herrería",
         "legendgroup": "Fabricación de productos de herrería",
         "legendgrouptitle": {
          "text": "Fabricación de productos de herrería"
         },
         "marker": {
          "color": "limegreen"
         },
         "name": "332320",
         "showlegend": false,
         "type": "bar",
         "x": [
          "332320"
         ],
         "xaxis": "x4",
         "y": [
          1049
         ],
         "yaxis": "y4"
        },
        {
         "hovertemplate": "<i>Total</i>: %{y}",
         "hovertext": "Elaboración de tortillas de maíz y molienda de nixtamal",
         "legendgroup": "Elaboración de tortillas de maíz y molienda de nixtamal",
         "legendgrouptitle": {
          "text": "Elaboración de tortillas de maíz y molienda de nixtamal"
         },
         "marker": {
          "color": "deeppink"
         },
         "name": "311830",
         "showlegend": false,
         "type": "bar",
         "x": [
          "311830"
         ],
         "xaxis": "x4",
         "y": [
          906
         ],
         "yaxis": "y4"
        },
        {
         "hovertemplate": "<i>Total</i>: %{y}",
         "hovertext": "Panificación tradicional",
         "legendgroup": "Panificación tradicional",
         "legendgrouptitle": {
          "text": "Panificación tradicional"
         },
         "marker": {
          "color": "red"
         },
         "name": "311812",
         "showlegend": false,
         "type": "bar",
         "x": [
          "311812"
         ],
         "xaxis": "x4",
         "y": [
          810
         ],
         "yaxis": "y4"
        },
        {
         "hovertemplate": "<i>Total</i>: %{y}",
         "hovertext": "Fabricación de productos de herrería",
         "legendgroup": "Fabricación de productos de herrería",
         "legendgrouptitle": {
          "text": "Fabricación de productos de herrería"
         },
         "marker": {
          "color": "limegreen"
         },
         "name": "332320",
         "showlegend": false,
         "type": "bar",
         "x": [
          "332320"
         ],
         "xaxis": "x5",
         "y": [
          1704
         ],
         "yaxis": "y5"
        },
        {
         "hovertemplate": "<i>Total</i>: %{y}",
         "hovertext": "Elaboración de tortillas de maíz y molienda de nixtamal",
         "legendgroup": "Elaboración de tortillas de maíz y molienda de nixtamal",
         "legendgrouptitle": {
          "text": "Elaboración de tortillas de maíz y molienda de nixtamal"
         },
         "marker": {
          "color": "deeppink"
         },
         "name": "311830",
         "showlegend": false,
         "type": "bar",
         "x": [
          "311830"
         ],
         "xaxis": "x5",
         "y": [
          1459
         ],
         "yaxis": "y5"
        },
        {
         "hovertemplate": "<i>Total</i>: %{y}",
         "hovertext": "Maquinado de piezas metálicas para maquinaria y equipo en general",
         "legendgroup": "Maquinado de piezas metálicas para maquinaria y equipo en general",
         "legendgrouptitle": {
          "text": "Maquinado de piezas metálicas para maquinaria y equipo en general"
         },
         "marker": {
          "color": "darkgrey"
         },
         "name": "332710",
         "showlegend": true,
         "type": "bar",
         "x": [
          "332710"
         ],
         "xaxis": "x5",
         "y": [
          1074
         ],
         "yaxis": "y5"
        },
        {
         "hovertemplate": "<i>Total</i>: %{y}",
         "hovertext": "Elaboración de tortillas de harina de trigo de forma tradicional",
         "legendgroup": "Elaboración de tortillas de harina de trigo de forma tradicional",
         "legendgrouptitle": {
          "text": "Elaboración de tortillas de harina de trigo de forma tradicional"
         },
         "marker": {
          "color": "springgreen"
         },
         "name": "311813",
         "showlegend": false,
         "type": "bar",
         "x": [
          "311813"
         ],
         "xaxis": "x6",
         "y": [
          2824
         ],
         "yaxis": "y6"
        },
        {
         "hovertemplate": "<i>Total</i>: %{y}",
         "hovertext": "Fabricación de productos de herrería",
         "legendgroup": "Fabricación de productos de herrería",
         "legendgrouptitle": {
          "text": "Fabricación de productos de herrería"
         },
         "marker": {
          "color": "limegreen"
         },
         "name": "332320",
         "showlegend": false,
         "type": "bar",
         "x": [
          "332320"
         ],
         "xaxis": "x6",
         "y": [
          1379
         ],
         "yaxis": "y6"
        },
        {
         "hovertemplate": "<i>Total</i>: %{y}",
         "hovertext": "Panificación tradicional",
         "legendgroup": "Panificación tradicional",
         "legendgrouptitle": {
          "text": "Panificación tradicional"
         },
         "marker": {
          "color": "red"
         },
         "name": "311812",
         "showlegend": false,
         "type": "bar",
         "x": [
          "311812"
         ],
         "xaxis": "x6",
         "y": [
          1073
         ],
         "yaxis": "y6"
        },
        {
         "hovertemplate": "<i>Total</i>: %{y}",
         "hovertext": "Elaboración de tortillas de maíz y molienda de nixtamal",
         "legendgroup": "Elaboración de tortillas de maíz y molienda de nixtamal",
         "legendgrouptitle": {
          "text": "Elaboración de tortillas de maíz y molienda de nixtamal"
         },
         "marker": {
          "color": "deeppink"
         },
         "name": "311830",
         "showlegend": false,
         "type": "bar",
         "x": [
          "311830"
         ],
         "xaxis": "x7",
         "y": [
          1460
         ],
         "yaxis": "y7"
        },
        {
         "hovertemplate": "<i>Total</i>: %{y}",
         "hovertext": "Fabricación de productos de herrería",
         "legendgroup": "Fabricación de productos de herrería",
         "legendgrouptitle": {
          "text": "Fabricación de productos de herrería"
         },
         "marker": {
          "color": "limegreen"
         },
         "name": "332320",
         "showlegend": false,
         "type": "bar",
         "x": [
          "332320"
         ],
         "xaxis": "x7",
         "y": [
          1449
         ],
         "yaxis": "y7"
        },
        {
         "hovertemplate": "<i>Total</i>: %{y}",
         "hovertext": "Panificación tradicional",
         "legendgroup": "Panificación tradicional",
         "legendgrouptitle": {
          "text": "Panificación tradicional"
         },
         "marker": {
          "color": "red"
         },
         "name": "311812",
         "showlegend": false,
         "type": "bar",
         "x": [
          "311812"
         ],
         "xaxis": "x7",
         "y": [
          942
         ],
         "yaxis": "y7"
        }
       ],
       "layout": {
        "annotations": [
         {
          "font": {
           "size": 16
          },
          "showarrow": false,
          "text": "Baja California",
          "x": 0.14444444444444446,
          "xanchor": "center",
          "xref": "paper",
          "y": 1,
          "yanchor": "bottom",
          "yref": "paper"
         },
         {
          "font": {
           "size": 16
          },
          "showarrow": false,
          "text": "Baja California Sur",
          "x": 0.5,
          "xanchor": "center",
          "xref": "paper",
          "y": 1,
          "yanchor": "bottom",
          "yref": "paper"
         },
         {
          "font": {
           "size": 16
          },
          "showarrow": false,
          "text": "Coahuila de Zaragoza",
          "x": 0.8555555555555556,
          "xanchor": "center",
          "xref": "paper",
          "y": 1,
          "yanchor": "bottom",
          "yref": "paper"
         },
         {
          "font": {
           "size": 16
          },
          "showarrow": false,
          "text": "Chihuahua",
          "x": 0.14444444444444446,
          "xanchor": "center",
          "xref": "paper",
          "y": 0.6111111111111112,
          "yanchor": "bottom",
          "yref": "paper"
         },
         {
          "font": {
           "size": 16
          },
          "showarrow": false,
          "text": "Nuevo León",
          "x": 0.5,
          "xanchor": "center",
          "xref": "paper",
          "y": 0.6111111111111112,
          "yanchor": "bottom",
          "yref": "paper"
         },
         {
          "font": {
           "size": 16
          },
          "showarrow": false,
          "text": "Sonora",
          "x": 0.8555555555555556,
          "xanchor": "center",
          "xref": "paper",
          "y": 0.6111111111111112,
          "yanchor": "bottom",
          "yref": "paper"
         },
         {
          "font": {
           "size": 16
          },
          "showarrow": false,
          "text": "Tamaulipas",
          "x": 0.14444444444444446,
          "xanchor": "center",
          "xref": "paper",
          "y": 0.22222222222222224,
          "yanchor": "bottom",
          "yref": "paper"
         }
        ],
        "height": 700,
        "legend": {
         "bgcolor": "whitesmoke",
         "bordercolor": "Black",
         "borderwidth": 1,
         "font": {
          "color": "black",
          "family": "Courier",
          "size": 12
         },
         "grouptitlefont": {
          "color": "black",
          "family": "Courier New, monospace",
          "size": 12
         },
         "title": {
          "font": {
           "family": "Courier New, monospace"
          },
          "text": "Activity Name"
         }
        },
        "template": {
         "data": {
          "bar": [
           {
            "error_x": {
             "color": "#2a3f5f"
            },
            "error_y": {
             "color": "#2a3f5f"
            },
            "marker": {
             "line": {
              "color": "#E5ECF6",
              "width": 0.5
             },
             "pattern": {
              "fillmode": "overlay",
              "size": 10,
              "solidity": 0.2
             }
            },
            "type": "bar"
           }
          ],
          "barpolar": [
           {
            "marker": {
             "line": {
              "color": "#E5ECF6",
              "width": 0.5
             },
             "pattern": {
              "fillmode": "overlay",
              "size": 10,
              "solidity": 0.2
             }
            },
            "type": "barpolar"
           }
          ],
          "carpet": [
           {
            "aaxis": {
             "endlinecolor": "#2a3f5f",
             "gridcolor": "white",
             "linecolor": "white",
             "minorgridcolor": "white",
             "startlinecolor": "#2a3f5f"
            },
            "baxis": {
             "endlinecolor": "#2a3f5f",
             "gridcolor": "white",
             "linecolor": "white",
             "minorgridcolor": "white",
             "startlinecolor": "#2a3f5f"
            },
            "type": "carpet"
           }
          ],
          "choropleth": [
           {
            "colorbar": {
             "outlinewidth": 0,
             "ticks": ""
            },
            "type": "choropleth"
           }
          ],
          "contour": [
           {
            "colorbar": {
             "outlinewidth": 0,
             "ticks": ""
            },
            "colorscale": [
             [
              0,
              "#0d0887"
             ],
             [
              0.1111111111111111,
              "#46039f"
             ],
             [
              0.2222222222222222,
              "#7201a8"
             ],
             [
              0.3333333333333333,
              "#9c179e"
             ],
             [
              0.4444444444444444,
              "#bd3786"
             ],
             [
              0.5555555555555556,
              "#d8576b"
             ],
             [
              0.6666666666666666,
              "#ed7953"
             ],
             [
              0.7777777777777778,
              "#fb9f3a"
             ],
             [
              0.8888888888888888,
              "#fdca26"
             ],
             [
              1,
              "#f0f921"
             ]
            ],
            "type": "contour"
           }
          ],
          "contourcarpet": [
           {
            "colorbar": {
             "outlinewidth": 0,
             "ticks": ""
            },
            "type": "contourcarpet"
           }
          ],
          "heatmap": [
           {
            "colorbar": {
             "outlinewidth": 0,
             "ticks": ""
            },
            "colorscale": [
             [
              0,
              "#0d0887"
             ],
             [
              0.1111111111111111,
              "#46039f"
             ],
             [
              0.2222222222222222,
              "#7201a8"
             ],
             [
              0.3333333333333333,
              "#9c179e"
             ],
             [
              0.4444444444444444,
              "#bd3786"
             ],
             [
              0.5555555555555556,
              "#d8576b"
             ],
             [
              0.6666666666666666,
              "#ed7953"
             ],
             [
              0.7777777777777778,
              "#fb9f3a"
             ],
             [
              0.8888888888888888,
              "#fdca26"
             ],
             [
              1,
              "#f0f921"
             ]
            ],
            "type": "heatmap"
           }
          ],
          "heatmapgl": [
           {
            "colorbar": {
             "outlinewidth": 0,
             "ticks": ""
            },
            "colorscale": [
             [
              0,
              "#0d0887"
             ],
             [
              0.1111111111111111,
              "#46039f"
             ],
             [
              0.2222222222222222,
              "#7201a8"
             ],
             [
              0.3333333333333333,
              "#9c179e"
             ],
             [
              0.4444444444444444,
              "#bd3786"
             ],
             [
              0.5555555555555556,
              "#d8576b"
             ],
             [
              0.6666666666666666,
              "#ed7953"
             ],
             [
              0.7777777777777778,
              "#fb9f3a"
             ],
             [
              0.8888888888888888,
              "#fdca26"
             ],
             [
              1,
              "#f0f921"
             ]
            ],
            "type": "heatmapgl"
           }
          ],
          "histogram": [
           {
            "marker": {
             "pattern": {
              "fillmode": "overlay",
              "size": 10,
              "solidity": 0.2
             }
            },
            "type": "histogram"
           }
          ],
          "histogram2d": [
           {
            "colorbar": {
             "outlinewidth": 0,
             "ticks": ""
            },
            "colorscale": [
             [
              0,
              "#0d0887"
             ],
             [
              0.1111111111111111,
              "#46039f"
             ],
             [
              0.2222222222222222,
              "#7201a8"
             ],
             [
              0.3333333333333333,
              "#9c179e"
             ],
             [
              0.4444444444444444,
              "#bd3786"
             ],
             [
              0.5555555555555556,
              "#d8576b"
             ],
             [
              0.6666666666666666,
              "#ed7953"
             ],
             [
              0.7777777777777778,
              "#fb9f3a"
             ],
             [
              0.8888888888888888,
              "#fdca26"
             ],
             [
              1,
              "#f0f921"
             ]
            ],
            "type": "histogram2d"
           }
          ],
          "histogram2dcontour": [
           {
            "colorbar": {
             "outlinewidth": 0,
             "ticks": ""
            },
            "colorscale": [
             [
              0,
              "#0d0887"
             ],
             [
              0.1111111111111111,
              "#46039f"
             ],
             [
              0.2222222222222222,
              "#7201a8"
             ],
             [
              0.3333333333333333,
              "#9c179e"
             ],
             [
              0.4444444444444444,
              "#bd3786"
             ],
             [
              0.5555555555555556,
              "#d8576b"
             ],
             [
              0.6666666666666666,
              "#ed7953"
             ],
             [
              0.7777777777777778,
              "#fb9f3a"
             ],
             [
              0.8888888888888888,
              "#fdca26"
             ],
             [
              1,
              "#f0f921"
             ]
            ],
            "type": "histogram2dcontour"
           }
          ],
          "mesh3d": [
           {
            "colorbar": {
             "outlinewidth": 0,
             "ticks": ""
            },
            "type": "mesh3d"
           }
          ],
          "parcoords": [
           {
            "line": {
             "colorbar": {
              "outlinewidth": 0,
              "ticks": ""
             }
            },
            "type": "parcoords"
           }
          ],
          "pie": [
           {
            "automargin": true,
            "type": "pie"
           }
          ],
          "scatter": [
           {
            "fillpattern": {
             "fillmode": "overlay",
             "size": 10,
             "solidity": 0.2
            },
            "type": "scatter"
           }
          ],
          "scatter3d": [
           {
            "line": {
             "colorbar": {
              "outlinewidth": 0,
              "ticks": ""
             }
            },
            "marker": {
             "colorbar": {
              "outlinewidth": 0,
              "ticks": ""
             }
            },
            "type": "scatter3d"
           }
          ],
          "scattercarpet": [
           {
            "marker": {
             "colorbar": {
              "outlinewidth": 0,
              "ticks": ""
             }
            },
            "type": "scattercarpet"
           }
          ],
          "scattergeo": [
           {
            "marker": {
             "colorbar": {
              "outlinewidth": 0,
              "ticks": ""
             }
            },
            "type": "scattergeo"
           }
          ],
          "scattergl": [
           {
            "marker": {
             "colorbar": {
              "outlinewidth": 0,
              "ticks": ""
             }
            },
            "type": "scattergl"
           }
          ],
          "scattermapbox": [
           {
            "marker": {
             "colorbar": {
              "outlinewidth": 0,
              "ticks": ""
             }
            },
            "type": "scattermapbox"
           }
          ],
          "scatterpolar": [
           {
            "marker": {
             "colorbar": {
              "outlinewidth": 0,
              "ticks": ""
             }
            },
            "type": "scatterpolar"
           }
          ],
          "scatterpolargl": [
           {
            "marker": {
             "colorbar": {
              "outlinewidth": 0,
              "ticks": ""
             }
            },
            "type": "scatterpolargl"
           }
          ],
          "scatterternary": [
           {
            "marker": {
             "colorbar": {
              "outlinewidth": 0,
              "ticks": ""
             }
            },
            "type": "scatterternary"
           }
          ],
          "surface": [
           {
            "colorbar": {
             "outlinewidth": 0,
             "ticks": ""
            },
            "colorscale": [
             [
              0,
              "#0d0887"
             ],
             [
              0.1111111111111111,
              "#46039f"
             ],
             [
              0.2222222222222222,
              "#7201a8"
             ],
             [
              0.3333333333333333,
              "#9c179e"
             ],
             [
              0.4444444444444444,
              "#bd3786"
             ],
             [
              0.5555555555555556,
              "#d8576b"
             ],
             [
              0.6666666666666666,
              "#ed7953"
             ],
             [
              0.7777777777777778,
              "#fb9f3a"
             ],
             [
              0.8888888888888888,
              "#fdca26"
             ],
             [
              1,
              "#f0f921"
             ]
            ],
            "type": "surface"
           }
          ],
          "table": [
           {
            "cells": {
             "fill": {
              "color": "#EBF0F8"
             },
             "line": {
              "color": "white"
             }
            },
            "header": {
             "fill": {
              "color": "#C8D4E3"
             },
             "line": {
              "color": "white"
             }
            },
            "type": "table"
           }
          ]
         },
         "layout": {
          "annotationdefaults": {
           "arrowcolor": "#2a3f5f",
           "arrowhead": 0,
           "arrowwidth": 1
          },
          "autotypenumbers": "strict",
          "coloraxis": {
           "colorbar": {
            "outlinewidth": 0,
            "ticks": ""
           }
          },
          "colorscale": {
           "diverging": [
            [
             0,
             "#8e0152"
            ],
            [
             0.1,
             "#c51b7d"
            ],
            [
             0.2,
             "#de77ae"
            ],
            [
             0.3,
             "#f1b6da"
            ],
            [
             0.4,
             "#fde0ef"
            ],
            [
             0.5,
             "#f7f7f7"
            ],
            [
             0.6,
             "#e6f5d0"
            ],
            [
             0.7,
             "#b8e186"
            ],
            [
             0.8,
             "#7fbc41"
            ],
            [
             0.9,
             "#4d9221"
            ],
            [
             1,
             "#276419"
            ]
           ],
           "sequential": [
            [
             0,
             "#0d0887"
            ],
            [
             0.1111111111111111,
             "#46039f"
            ],
            [
             0.2222222222222222,
             "#7201a8"
            ],
            [
             0.3333333333333333,
             "#9c179e"
            ],
            [
             0.4444444444444444,
             "#bd3786"
            ],
            [
             0.5555555555555556,
             "#d8576b"
            ],
            [
             0.6666666666666666,
             "#ed7953"
            ],
            [
             0.7777777777777778,
             "#fb9f3a"
            ],
            [
             0.8888888888888888,
             "#fdca26"
            ],
            [
             1,
             "#f0f921"
            ]
           ],
           "sequentialminus": [
            [
             0,
             "#0d0887"
            ],
            [
             0.1111111111111111,
             "#46039f"
            ],
            [
             0.2222222222222222,
             "#7201a8"
            ],
            [
             0.3333333333333333,
             "#9c179e"
            ],
            [
             0.4444444444444444,
             "#bd3786"
            ],
            [
             0.5555555555555556,
             "#d8576b"
            ],
            [
             0.6666666666666666,
             "#ed7953"
            ],
            [
             0.7777777777777778,
             "#fb9f3a"
            ],
            [
             0.8888888888888888,
             "#fdca26"
            ],
            [
             1,
             "#f0f921"
            ]
           ]
          },
          "colorway": [
           "#636efa",
           "#EF553B",
           "#00cc96",
           "#ab63fa",
           "#FFA15A",
           "#19d3f3",
           "#FF6692",
           "#B6E880",
           "#FF97FF",
           "#FECB52"
          ],
          "font": {
           "color": "#2a3f5f"
          },
          "geo": {
           "bgcolor": "white",
           "lakecolor": "white",
           "landcolor": "#E5ECF6",
           "showlakes": true,
           "showland": true,
           "subunitcolor": "white"
          },
          "hoverlabel": {
           "align": "left"
          },
          "hovermode": "closest",
          "mapbox": {
           "style": "light"
          },
          "paper_bgcolor": "white",
          "plot_bgcolor": "#E5ECF6",
          "polar": {
           "angularaxis": {
            "gridcolor": "white",
            "linecolor": "white",
            "ticks": ""
           },
           "bgcolor": "#E5ECF6",
           "radialaxis": {
            "gridcolor": "white",
            "linecolor": "white",
            "ticks": ""
           }
          },
          "scene": {
           "xaxis": {
            "backgroundcolor": "#E5ECF6",
            "gridcolor": "white",
            "gridwidth": 2,
            "linecolor": "white",
            "showbackground": true,
            "ticks": "",
            "zerolinecolor": "white"
           },
           "yaxis": {
            "backgroundcolor": "#E5ECF6",
            "gridcolor": "white",
            "gridwidth": 2,
            "linecolor": "white",
            "showbackground": true,
            "ticks": "",
            "zerolinecolor": "white"
           },
           "zaxis": {
            "backgroundcolor": "#E5ECF6",
            "gridcolor": "white",
            "gridwidth": 2,
            "linecolor": "white",
            "showbackground": true,
            "ticks": "",
            "zerolinecolor": "white"
           }
          },
          "shapedefaults": {
           "line": {
            "color": "#2a3f5f"
           }
          },
          "ternary": {
           "aaxis": {
            "gridcolor": "white",
            "linecolor": "white",
            "ticks": ""
           },
           "baxis": {
            "gridcolor": "white",
            "linecolor": "white",
            "ticks": ""
           },
           "bgcolor": "#E5ECF6",
           "caxis": {
            "gridcolor": "white",
            "linecolor": "white",
            "ticks": ""
           }
          },
          "title": {
           "x": 0.05
          },
          "xaxis": {
           "automargin": true,
           "gridcolor": "white",
           "linecolor": "white",
           "ticks": "",
           "title": {
            "standoff": 15
           },
           "zerolinecolor": "white",
           "zerolinewidth": 2
          },
          "yaxis": {
           "automargin": true,
           "gridcolor": "white",
           "linecolor": "white",
           "ticks": "",
           "title": {
            "standoff": 15
           },
           "zerolinecolor": "white",
           "zerolinewidth": 2
          }
         }
        },
        "title": {
         "text": "Región norte"
        },
        "xaxis": {
         "anchor": "y",
         "domain": [
          0,
          0.2888888888888889
         ],
         "title": {
          "font": {
           "size": 13
          },
          "text": "Activity Code"
         }
        },
        "xaxis2": {
         "anchor": "y2",
         "domain": [
          0.35555555555555557,
          0.6444444444444445
         ],
         "title": {
          "font": {
           "size": 13
          },
          "text": "Activity Code"
         }
        },
        "xaxis3": {
         "anchor": "y3",
         "domain": [
          0.7111111111111111,
          1
         ],
         "title": {
          "font": {
           "size": 13
          },
          "text": "Activity Code"
         }
        },
        "xaxis4": {
         "anchor": "y4",
         "domain": [
          0,
          0.2888888888888889
         ],
         "title": {
          "font": {
           "size": 13
          },
          "text": "Activity Code"
         }
        },
        "xaxis5": {
         "anchor": "y5",
         "domain": [
          0.35555555555555557,
          0.6444444444444445
         ],
         "title": {
          "font": {
           "size": 13
          },
          "text": "Activity Code"
         }
        },
        "xaxis6": {
         "anchor": "y6",
         "domain": [
          0.7111111111111111,
          1
         ],
         "title": {
          "font": {
           "size": 13
          },
          "text": "Activity Code"
         }
        },
        "xaxis7": {
         "anchor": "y7",
         "domain": [
          0,
          0.2888888888888889
         ],
         "title": {
          "font": {
           "size": 13
          },
          "text": "Activity Code"
         }
        },
        "xaxis8": {
         "anchor": "y8",
         "domain": [
          0.35555555555555557,
          0.6444444444444445
         ]
        },
        "xaxis9": {
         "anchor": "y9",
         "domain": [
          0.7111111111111111,
          1
         ]
        },
        "yaxis": {
         "anchor": "x",
         "domain": [
          0.7777777777777778,
          1
         ],
         "title": {
          "font": {
           "size": 13
          },
          "text": "Total Industries"
         }
        },
        "yaxis2": {
         "anchor": "x2",
         "domain": [
          0.7777777777777778,
          1
         ]
        },
        "yaxis3": {
         "anchor": "x3",
         "domain": [
          0.7777777777777778,
          1
         ]
        },
        "yaxis4": {
         "anchor": "x4",
         "domain": [
          0.3888888888888889,
          0.6111111111111112
         ],
         "title": {
          "font": {
           "size": 13
          },
          "text": "Total Industries"
         }
        },
        "yaxis5": {
         "anchor": "x5",
         "domain": [
          0.3888888888888889,
          0.6111111111111112
         ]
        },
        "yaxis6": {
         "anchor": "x6",
         "domain": [
          0.3888888888888889,
          0.6111111111111112
         ]
        },
        "yaxis7": {
         "anchor": "x7",
         "domain": [
          0,
          0.22222222222222224
         ],
         "title": {
          "font": {
           "size": 13
          },
          "text": "Total Industries"
         }
        },
        "yaxis8": {
         "anchor": "x8",
         "domain": [
          0,
          0.22222222222222224
         ]
        },
        "yaxis9": {
         "anchor": "x9",
         "domain": [
          0,
          0.22222222222222224
         ]
        }
       }
      }
     },
     "metadata": {},
     "output_type": "display_data"
    }
   ],
   "source": [
    "graphRegionPlotly(df, \"norte\")"
   ]
  },
  {
   "cell_type": "code",
   "execution_count": 23,
   "metadata": {},
   "outputs": [],
   "source": [
    "def regionFilter(region):\n",
    "    filtered_data = df[df['region'] == region]\n",
    "    filtered_df = filtered_data.groupby(['nombre_act'], as_index=False).size().rename(\n",
    "        columns={'nombre_act':'activity_name', 'size':'total_registers'}).sort_values('total_registers', ascending=False)[:5]\n",
    "    absolute_frequency = len(filtered_data)\n",
    "    filtered_df['relative frequency'] = filtered_df['total_registers'].apply(lambda x: x / absolute_frequency * 100)\n",
    "\n",
    "    return filtered_df"
   ]
  },
  {
   "cell_type": "code",
   "execution_count": 24,
   "metadata": {},
   "outputs": [
    {
     "data": {
      "text/html": [
       "<div>\n",
       "<style scoped>\n",
       "    .dataframe tbody tr th:only-of-type {\n",
       "        vertical-align: middle;\n",
       "    }\n",
       "\n",
       "    .dataframe tbody tr th {\n",
       "        vertical-align: top;\n",
       "    }\n",
       "\n",
       "    .dataframe thead th {\n",
       "        text-align: right;\n",
       "    }\n",
       "</style>\n",
       "<table border=\"1\" class=\"dataframe\">\n",
       "  <thead>\n",
       "    <tr style=\"text-align: right;\">\n",
       "      <th></th>\n",
       "      <th>activity_name</th>\n",
       "      <th>total_registers</th>\n",
       "      <th>relative frequency</th>\n",
       "    </tr>\n",
       "  </thead>\n",
       "  <tbody>\n",
       "    <tr>\n",
       "      <th>219</th>\n",
       "      <td>Fabricación de productos de herrería</td>\n",
       "      <td>7909</td>\n",
       "      <td>11.668634</td>\n",
       "    </tr>\n",
       "    <tr>\n",
       "      <th>64</th>\n",
       "      <td>Elaboración de tortillas de harina de trigo de...</td>\n",
       "      <td>6594</td>\n",
       "      <td>9.728533</td>\n",
       "    </tr>\n",
       "    <tr>\n",
       "      <th>65</th>\n",
       "      <td>Elaboración de tortillas de maíz y molienda de...</td>\n",
       "      <td>6522</td>\n",
       "      <td>9.622307</td>\n",
       "    </tr>\n",
       "    <tr>\n",
       "      <th>274</th>\n",
       "      <td>Panificación tradicional</td>\n",
       "      <td>5557</td>\n",
       "      <td>8.198584</td>\n",
       "    </tr>\n",
       "    <tr>\n",
       "      <th>258</th>\n",
       "      <td>Impresión de formas continuas y otros impresos</td>\n",
       "      <td>3479</td>\n",
       "      <td>5.132783</td>\n",
       "    </tr>\n",
       "  </tbody>\n",
       "</table>\n",
       "</div>"
      ],
      "text/plain": [
       "                                         activity_name  total_registers  \\\n",
       "219               Fabricación de productos de herrería             7909   \n",
       "64   Elaboración de tortillas de harina de trigo de...             6594   \n",
       "65   Elaboración de tortillas de maíz y molienda de...             6522   \n",
       "274                           Panificación tradicional             5557   \n",
       "258     Impresión de formas continuas y otros impresos             3479   \n",
       "\n",
       "     relative frequency  \n",
       "219           11.668634  \n",
       "64             9.728533  \n",
       "65             9.622307  \n",
       "274            8.198584  \n",
       "258            5.132783  "
      ]
     },
     "execution_count": 24,
     "metadata": {},
     "output_type": "execute_result"
    }
   ],
   "source": [
    "northern_region = regionFilter('norte')\n",
    "northern_region"
   ]
  },
  {
   "cell_type": "markdown",
   "metadata": {},
   "source": [
    "En el gráfico se puede observar que el código y color que más se repite en los estados pertenece a la actividad de **Fabricación de productos de herrería**, ya que se encuentra en los 7 estados que conforman a la región norte y al compararlo con la tabla que presenta el top 5 de nombres de actividades con mayores registros en la región, así como su frecuencia relativa podemos encontrar que la **Fabricación de productos de herrería** se encuentra en el top 1 con el mayor número de registros.\n",
    "\n",
    "Por lo que podemos afirmar que en la región norte existe una predominancia de **Fabricación de productos de herrería**."
   ]
  },
  {
   "cell_type": "code",
   "execution_count": 35,
   "metadata": {},
   "outputs": [
    {
     "data": {
      "application/vnd.plotly.v1+json": {
       "config": {
        "plotlyServerURL": "https://plot.ly"
       },
       "data": [
        {
         "hovertemplate": "<i>Total</i>: %{y}",
         "hovertext": "Fabricación de productos de herrería",
         "legendgroup": "Fabricación de productos de herrería",
         "legendgrouptitle": {
          "text": "Fabricación de productos de herrería"
         },
         "marker": {
          "color": "    orchid"
         },
         "name": "332320",
         "showlegend": true,
         "type": "bar",
         "x": [
          "332320"
         ],
         "xaxis": "x",
         "y": [
          692
         ],
         "yaxis": "y"
        },
        {
         "hovertemplate": "<i>Total</i>: %{y}",
         "hovertext": "Elaboración de tortillas de maíz y molienda de nixtamal",
         "legendgroup": "Elaboración de tortillas de maíz y molienda de nixtamal",
         "legendgrouptitle": {
          "text": "Elaboración de tortillas de maíz y molienda de nixtamal"
         },
         "marker": {
          "color": "greenyellow"
         },
         "name": "311830",
         "showlegend": true,
         "type": "bar",
         "x": [
          "311830"
         ],
         "xaxis": "x",
         "y": [
          581
         ],
         "yaxis": "y"
        },
        {
         "hovertemplate": "<i>Total</i>: %{y}",
         "hovertext": "Panificación tradicional",
         "legendgroup": "Panificación tradicional",
         "legendgrouptitle": {
          "text": "Panificación tradicional"
         },
         "marker": {
          "color": "mediumslateblue"
         },
         "name": "311812",
         "showlegend": true,
         "type": "bar",
         "x": [
          "311812"
         ],
         "xaxis": "x",
         "y": [
          502
         ],
         "yaxis": "y"
        },
        {
         "hovertemplate": "<i>Total</i>: %{y}",
         "hovertext": "Fabricación de productos de herrería",
         "legendgroup": "Fabricación de productos de herrería",
         "legendgrouptitle": {
          "text": "Fabricación de productos de herrería"
         },
         "marker": {
          "color": "    orchid"
         },
         "name": "332320",
         "showlegend": false,
         "type": "bar",
         "x": [
          "332320"
         ],
         "xaxis": "x2",
         "y": [
          474
         ],
         "yaxis": "y2"
        },
        {
         "hovertemplate": "<i>Total</i>: %{y}",
         "hovertext": "Elaboración de tortillas de maíz y molienda de nixtamal",
         "legendgroup": "Elaboración de tortillas de maíz y molienda de nixtamal",
         "legendgrouptitle": {
          "text": "Elaboración de tortillas de maíz y molienda de nixtamal"
         },
         "marker": {
          "color": "greenyellow"
         },
         "name": "311830",
         "showlegend": false,
         "type": "bar",
         "x": [
          "311830"
         ],
         "xaxis": "x2",
         "y": [
          467
         ],
         "yaxis": "y2"
        },
        {
         "hovertemplate": "<i>Total</i>: %{y}",
         "hovertext": "Panificación tradicional",
         "legendgroup": "Panificación tradicional",
         "legendgrouptitle": {
          "text": "Panificación tradicional"
         },
         "marker": {
          "color": "mediumslateblue"
         },
         "name": "311812",
         "showlegend": false,
         "type": "bar",
         "x": [
          "311812"
         ],
         "xaxis": "x2",
         "y": [
          375
         ],
         "yaxis": "y2"
        },
        {
         "hovertemplate": "<i>Total</i>: %{y}",
         "hovertext": "Elaboración de tortillas de maíz y molienda de nixtamal",
         "legendgroup": "Elaboración de tortillas de maíz y molienda de nixtamal",
         "legendgrouptitle": {
          "text": "Elaboración de tortillas de maíz y molienda de nixtamal"
         },
         "marker": {
          "color": "greenyellow"
         },
         "name": "311830",
         "showlegend": false,
         "type": "bar",
         "x": [
          "311830"
         ],
         "xaxis": "x3",
         "y": [
          6324
         ],
         "yaxis": "y3"
        },
        {
         "hovertemplate": "<i>Total</i>: %{y}",
         "hovertext": "Panificación tradicional",
         "legendgroup": "Panificación tradicional",
         "legendgrouptitle": {
          "text": "Panificación tradicional"
         },
         "marker": {
          "color": "mediumslateblue"
         },
         "name": "311812",
         "showlegend": false,
         "type": "bar",
         "x": [
          "311812"
         ],
         "xaxis": "x3",
         "y": [
          3670
         ],
         "yaxis": "y3"
        },
        {
         "hovertemplate": "<i>Total</i>: %{y}",
         "hovertext": "Impresión de formas continuas y otros impresos",
         "legendgroup": "Impresión de formas continuas y otros impresos",
         "legendgrouptitle": {
          "text": "Impresión de formas continuas y otros impresos"
         },
         "marker": {
          "color": "    lightskyblue"
         },
         "name": "323119",
         "showlegend": true,
         "type": "bar",
         "x": [
          "323119"
         ],
         "xaxis": "x3",
         "y": [
          3047
         ],
         "yaxis": "y3"
        },
        {
         "hovertemplate": "<i>Total</i>: %{y}",
         "hovertext": "Fabricación de productos de herrería",
         "legendgroup": "Fabricación de productos de herrería",
         "legendgrouptitle": {
          "text": "Fabricación de productos de herrería"
         },
         "marker": {
          "color": "    orchid"
         },
         "name": "332320",
         "showlegend": false,
         "type": "bar",
         "x": [
          "332320"
         ],
         "xaxis": "x4",
         "y": [
          795
         ],
         "yaxis": "y4"
        },
        {
         "hovertemplate": "<i>Total</i>: %{y}",
         "hovertext": "Elaboración de tortillas de maíz y molienda de nixtamal",
         "legendgroup": "Elaboración de tortillas de maíz y molienda de nixtamal",
         "legendgrouptitle": {
          "text": "Elaboración de tortillas de maíz y molienda de nixtamal"
         },
         "marker": {
          "color": "greenyellow"
         },
         "name": "311830",
         "showlegend": false,
         "type": "bar",
         "x": [
          "311830"
         ],
         "xaxis": "x4",
         "y": [
          629
         ],
         "yaxis": "y4"
        },
        {
         "hovertemplate": "<i>Total</i>: %{y}",
         "hovertext": "Panificación tradicional",
         "legendgroup": "Panificación tradicional",
         "legendgrouptitle": {
          "text": "Panificación tradicional"
         },
         "marker": {
          "color": "mediumslateblue"
         },
         "name": "311812",
         "showlegend": false,
         "type": "bar",
         "x": [
          "311812"
         ],
         "xaxis": "x4",
         "y": [
          523
         ],
         "yaxis": "y4"
        },
        {
         "hovertemplate": "<i>Total</i>: %{y}",
         "hovertext": "Elaboración de tortillas de maíz y molienda de nixtamal",
         "legendgroup": "Elaboración de tortillas de maíz y molienda de nixtamal",
         "legendgrouptitle": {
          "text": "Elaboración de tortillas de maíz y molienda de nixtamal"
         },
         "marker": {
          "color": "greenyellow"
         },
         "name": "311830",
         "showlegend": false,
         "type": "bar",
         "x": [
          "311830"
         ],
         "xaxis": "x5",
         "y": [
          4304
         ],
         "yaxis": "y5"
        },
        {
         "hovertemplate": "<i>Total</i>: %{y}",
         "hovertext": "Fabricación de productos de herrería",
         "legendgroup": "Fabricación de productos de herrería",
         "legendgrouptitle": {
          "text": "Fabricación de productos de herrería"
         },
         "marker": {
          "color": "    orchid"
         },
         "name": "332320",
         "showlegend": false,
         "type": "bar",
         "x": [
          "332320"
         ],
         "xaxis": "x5",
         "y": [
          3522
         ],
         "yaxis": "y5"
        },
        {
         "hovertemplate": "<i>Total</i>: %{y}",
         "hovertext": "Fabricación de calzado con corte de piel y cuero",
         "legendgroup": "Fabricación de calzado con corte de piel y cuero",
         "legendgrouptitle": {
          "text": "Fabricación de calzado con corte de piel y cuero"
         },
         "marker": {
          "color": "lightsteelblue"
         },
         "name": "316211",
         "showlegend": true,
         "type": "bar",
         "x": [
          "316211"
         ],
         "xaxis": "x5",
         "y": [
          2561
         ],
         "yaxis": "y5"
        },
        {
         "hovertemplate": "<i>Total</i>: %{y}",
         "hovertext": "Elaboración de tortillas de maíz y molienda de nixtamal",
         "legendgroup": "Elaboración de tortillas de maíz y molienda de nixtamal",
         "legendgrouptitle": {
          "text": "Elaboración de tortillas de maíz y molienda de nixtamal"
         },
         "marker": {
          "color": "greenyellow"
         },
         "name": "311830",
         "showlegend": false,
         "type": "bar",
         "x": [
          "311830"
         ],
         "xaxis": "x6",
         "y": [
          4438
         ],
         "yaxis": "y6"
        },
        {
         "hovertemplate": "<i>Total</i>: %{y}",
         "hovertext": "Panificación tradicional",
         "legendgroup": "Panificación tradicional",
         "legendgrouptitle": {
          "text": "Panificación tradicional"
         },
         "marker": {
          "color": "mediumslateblue"
         },
         "name": "311812",
         "showlegend": false,
         "type": "bar",
         "x": [
          "311812"
         ],
         "xaxis": "x6",
         "y": [
          2050
         ],
         "yaxis": "y6"
        },
        {
         "hovertemplate": "<i>Total</i>: %{y}",
         "hovertext": "Fabricación de productos de herrería",
         "legendgroup": "Fabricación de productos de herrería",
         "legendgrouptitle": {
          "text": "Fabricación de productos de herrería"
         },
         "marker": {
          "color": "    orchid"
         },
         "name": "332320",
         "showlegend": false,
         "type": "bar",
         "x": [
          "332320"
         ],
         "xaxis": "x6",
         "y": [
          1534
         ],
         "yaxis": "y6"
        },
        {
         "hovertemplate": "<i>Total</i>: %{y}",
         "hovertext": "Elaboración de tortillas de maíz y molienda de nixtamal",
         "legendgroup": "Elaboración de tortillas de maíz y molienda de nixtamal",
         "legendgrouptitle": {
          "text": "Elaboración de tortillas de maíz y molienda de nixtamal"
         },
         "marker": {
          "color": "greenyellow"
         },
         "name": "311830",
         "showlegend": false,
         "type": "bar",
         "x": [
          "311830"
         ],
         "xaxis": "x7",
         "y": [
          4167
         ],
         "yaxis": "y7"
        },
        {
         "hovertemplate": "<i>Total</i>: %{y}",
         "hovertext": "Fabricación de productos de herrería",
         "legendgroup": "Fabricación de productos de herrería",
         "legendgrouptitle": {
          "text": "Fabricación de productos de herrería"
         },
         "marker": {
          "color": "    orchid"
         },
         "name": "332320",
         "showlegend": false,
         "type": "bar",
         "x": [
          "332320"
         ],
         "xaxis": "x7",
         "y": [
          3848
         ],
         "yaxis": "y7"
        },
        {
         "hovertemplate": "<i>Total</i>: %{y}",
         "hovertext": "Panificación tradicional",
         "legendgroup": "Panificación tradicional",
         "legendgrouptitle": {
          "text": "Panificación tradicional"
         },
         "marker": {
          "color": "mediumslateblue"
         },
         "name": "311812",
         "showlegend": false,
         "type": "bar",
         "x": [
          "311812"
         ],
         "xaxis": "x7",
         "y": [
          2790
         ],
         "yaxis": "y7"
        },
        {
         "hovertemplate": "<i>Total</i>: %{y}",
         "hovertext": "Elaboración de tortillas de maíz y molienda de nixtamal",
         "legendgroup": "Elaboración de tortillas de maíz y molienda de nixtamal",
         "legendgrouptitle": {
          "text": "Elaboración de tortillas de maíz y molienda de nixtamal"
         },
         "marker": {
          "color": "greenyellow"
         },
         "name": "311830",
         "showlegend": false,
         "type": "bar",
         "x": [
          "311830"
         ],
         "xaxis": "x8",
         "y": [
          15988
         ],
         "yaxis": "y8"
        },
        {
         "hovertemplate": "<i>Total</i>: %{y}",
         "hovertext": "Panificación tradicional",
         "legendgroup": "Panificación tradicional",
         "legendgrouptitle": {
          "text": "Panificación tradicional"
         },
         "marker": {
          "color": "mediumslateblue"
         },
         "name": "311812",
         "showlegend": false,
         "type": "bar",
         "x": [
          "311812"
         ],
         "xaxis": "x8",
         "y": [
          8544
         ],
         "yaxis": "y8"
        },
        {
         "hovertemplate": "<i>Total</i>: %{y}",
         "hovertext": "Fabricación de productos de herrería",
         "legendgroup": "Fabricación de productos de herrería",
         "legendgrouptitle": {
          "text": "Fabricación de productos de herrería"
         },
         "marker": {
          "color": "    orchid"
         },
         "name": "332320",
         "showlegend": false,
         "type": "bar",
         "x": [
          "332320"
         ],
         "xaxis": "x8",
         "y": [
          6262
         ],
         "yaxis": "y8"
        },
        {
         "hovertemplate": "<i>Total</i>: %{y}",
         "hovertext": "Elaboración de tortillas de maíz y molienda de nixtamal",
         "legendgroup": "Elaboración de tortillas de maíz y molienda de nixtamal",
         "legendgrouptitle": {
          "text": "Elaboración de tortillas de maíz y molienda de nixtamal"
         },
         "marker": {
          "color": "greenyellow"
         },
         "name": "311830",
         "showlegend": false,
         "type": "bar",
         "x": [
          "311830"
         ],
         "xaxis": "x9",
         "y": [
          6158
         ],
         "yaxis": "y9"
        },
        {
         "hovertemplate": "<i>Total</i>: %{y}",
         "hovertext": "Fabricación de artículos de alfarería, porcelana y loza",
         "legendgroup": "Fabricación de artículos de alfarería, porcelana y loza",
         "legendgrouptitle": {
          "text": "Fabricación de artículos de alfarería, porcelana y loza"
         },
         "marker": {
          "color": "maroon"
         },
         "name": "327111",
         "showlegend": true,
         "type": "bar",
         "x": [
          "327111"
         ],
         "xaxis": "x9",
         "y": [
          3370
         ],
         "yaxis": "y9"
        },
        {
         "hovertemplate": "<i>Total</i>: %{y}",
         "hovertext": "Fabricación de productos de herrería",
         "legendgroup": "Fabricación de productos de herrería",
         "legendgrouptitle": {
          "text": "Fabricación de productos de herrería"
         },
         "marker": {
          "color": "    orchid"
         },
         "name": "332320",
         "showlegend": false,
         "type": "bar",
         "x": [
          "332320"
         ],
         "xaxis": "x9",
         "y": [
          3243
         ],
         "yaxis": "y9"
        },
        {
         "hovertemplate": "<i>Total</i>: %{y}",
         "hovertext": "Elaboración de tortillas de maíz y molienda de nixtamal",
         "legendgroup": "Elaboración de tortillas de maíz y molienda de nixtamal",
         "legendgrouptitle": {
          "text": "Elaboración de tortillas de maíz y molienda de nixtamal"
         },
         "marker": {
          "color": "greenyellow"
         },
         "name": "311830",
         "showlegend": false,
         "type": "bar",
         "x": [
          "311830"
         ],
         "xaxis": "x10",
         "y": [
          2813
         ],
         "yaxis": "y10"
        },
        {
         "hovertemplate": "<i>Total</i>: %{y}",
         "hovertext": "Fabricación de productos de herrería",
         "legendgroup": "Fabricación de productos de herrería",
         "legendgrouptitle": {
          "text": "Fabricación de productos de herrería"
         },
         "marker": {
          "color": "    orchid"
         },
         "name": "332320",
         "showlegend": false,
         "type": "bar",
         "x": [
          "332320"
         ],
         "xaxis": "x10",
         "y": [
          1348
         ],
         "yaxis": "y10"
        },
        {
         "hovertemplate": "<i>Total</i>: %{y}",
         "hovertext": "Panificación tradicional",
         "legendgroup": "Panificación tradicional",
         "legendgrouptitle": {
          "text": "Panificación tradicional"
         },
         "marker": {
          "color": "mediumslateblue"
         },
         "name": "311812",
         "showlegend": false,
         "type": "bar",
         "x": [
          "311812"
         ],
         "xaxis": "x10",
         "y": [
          1187
         ],
         "yaxis": "y10"
        },
        {
         "hovertemplate": "<i>Total</i>: %{y}",
         "hovertext": "Fabricación de productos de herrería",
         "legendgroup": "Fabricación de productos de herrería",
         "legendgrouptitle": {
          "text": "Fabricación de productos de herrería"
         },
         "marker": {
          "color": "    orchid"
         },
         "name": "332320",
         "showlegend": false,
         "type": "bar",
         "x": [
          "332320"
         ],
         "xaxis": "x11",
         "y": [
          761
         ],
         "yaxis": "y11"
        },
        {
         "hovertemplate": "<i>Total</i>: %{y}",
         "hovertext": "Panificación tradicional",
         "legendgroup": "Panificación tradicional",
         "legendgrouptitle": {
          "text": "Panificación tradicional"
         },
         "marker": {
          "color": "mediumslateblue"
         },
         "name": "311812",
         "showlegend": false,
         "type": "bar",
         "x": [
          "311812"
         ],
         "xaxis": "x11",
         "y": [
          752
         ],
         "yaxis": "y11"
        },
        {
         "hovertemplate": "<i>Total</i>: %{y}",
         "hovertext": "Elaboración de tortillas de maíz y molienda de nixtamal",
         "legendgroup": "Elaboración de tortillas de maíz y molienda de nixtamal",
         "legendgrouptitle": {
          "text": "Elaboración de tortillas de maíz y molienda de nixtamal"
         },
         "marker": {
          "color": "greenyellow"
         },
         "name": "311830",
         "showlegend": false,
         "type": "bar",
         "x": [
          "311830"
         ],
         "xaxis": "x11",
         "y": [
          691
         ],
         "yaxis": "y11"
        },
        {
         "hovertemplate": "<i>Total</i>: %{y}",
         "hovertext": "Elaboración de tortillas de maíz y molienda de nixtamal",
         "legendgroup": "Elaboración de tortillas de maíz y molienda de nixtamal",
         "legendgrouptitle": {
          "text": "Elaboración de tortillas de maíz y molienda de nixtamal"
         },
         "marker": {
          "color": "greenyellow"
         },
         "name": "311830",
         "showlegend": false,
         "type": "bar",
         "x": [
          "311830"
         ],
         "xaxis": "x12",
         "y": [
          1199
         ],
         "yaxis": "y12"
        },
        {
         "hovertemplate": "<i>Total</i>: %{y}",
         "hovertext": "Panificación tradicional",
         "legendgroup": "Panificación tradicional",
         "legendgrouptitle": {
          "text": "Panificación tradicional"
         },
         "marker": {
          "color": "mediumslateblue"
         },
         "name": "311812",
         "showlegend": false,
         "type": "bar",
         "x": [
          "311812"
         ],
         "xaxis": "x12",
         "y": [
          862
         ],
         "yaxis": "y12"
        },
        {
         "hovertemplate": "<i>Total</i>: %{y}",
         "hovertext": "Fabricación de productos de herrería",
         "legendgroup": "Fabricación de productos de herrería",
         "legendgrouptitle": {
          "text": "Fabricación de productos de herrería"
         },
         "marker": {
          "color": "    orchid"
         },
         "name": "332320",
         "showlegend": false,
         "type": "bar",
         "x": [
          "332320"
         ],
         "xaxis": "x12",
         "y": [
          754
         ],
         "yaxis": "y12"
        },
        {
         "hovertemplate": "<i>Total</i>: %{y}",
         "hovertext": "Elaboración de tortillas de maíz y molienda de nixtamal",
         "legendgroup": "Elaboración de tortillas de maíz y molienda de nixtamal",
         "legendgrouptitle": {
          "text": "Elaboración de tortillas de maíz y molienda de nixtamal"
         },
         "marker": {
          "color": "greenyellow"
         },
         "name": "311830",
         "showlegend": false,
         "type": "bar",
         "x": [
          "311830"
         ],
         "xaxis": "x13",
         "y": [
          1634
         ],
         "yaxis": "y13"
        },
        {
         "hovertemplate": "<i>Total</i>: %{y}",
         "hovertext": "Fabricación de productos de herrería",
         "legendgroup": "Fabricación de productos de herrería",
         "legendgrouptitle": {
          "text": "Fabricación de productos de herrería"
         },
         "marker": {
          "color": "    orchid"
         },
         "name": "332320",
         "showlegend": false,
         "type": "bar",
         "x": [
          "332320"
         ],
         "xaxis": "x13",
         "y": [
          1424
         ],
         "yaxis": "y13"
        },
        {
         "hovertemplate": "<i>Total</i>: %{y}",
         "hovertext": "Panificación tradicional",
         "legendgroup": "Panificación tradicional",
         "legendgrouptitle": {
          "text": "Panificación tradicional"
         },
         "marker": {
          "color": "mediumslateblue"
         },
         "name": "311812",
         "showlegend": false,
         "type": "bar",
         "x": [
          "311812"
         ],
         "xaxis": "x13",
         "y": [
          1163
         ],
         "yaxis": "y13"
        },
        {
         "hovertemplate": "<i>Total</i>: %{y}",
         "hovertext": "Elaboración de tortillas de maíz y molienda de nixtamal",
         "legendgroup": "Elaboración de tortillas de maíz y molienda de nixtamal",
         "legendgrouptitle": {
          "text": "Elaboración de tortillas de maíz y molienda de nixtamal"
         },
         "marker": {
          "color": "greenyellow"
         },
         "name": "311830",
         "showlegend": false,
         "type": "bar",
         "x": [
          "311830"
         ],
         "xaxis": "x14",
         "y": [
          1737
         ],
         "yaxis": "y14"
        },
        {
         "hovertemplate": "<i>Total</i>: %{y}",
         "hovertext": "Fabricación de productos de herrería",
         "legendgroup": "Fabricación de productos de herrería",
         "legendgrouptitle": {
          "text": "Fabricación de productos de herrería"
         },
         "marker": {
          "color": "    orchid"
         },
         "name": "332320",
         "showlegend": false,
         "type": "bar",
         "x": [
          "332320"
         ],
         "xaxis": "x14",
         "y": [
          1502
         ],
         "yaxis": "y14"
        },
        {
         "hovertemplate": "<i>Total</i>: %{y}",
         "hovertext": "Purificación y embotellado de agua",
         "legendgroup": "Purificación y embotellado de agua",
         "legendgrouptitle": {
          "text": "Purificación y embotellado de agua"
         },
         "marker": {
          "color": "grey"
         },
         "name": "312112",
         "showlegend": true,
         "type": "bar",
         "x": [
          "312112"
         ],
         "xaxis": "x14",
         "y": [
          1145
         ],
         "yaxis": "y14"
        },
        {
         "hovertemplate": "<i>Total</i>: %{y}",
         "hovertext": "Elaboración de tortillas de maíz y molienda de nixtamal",
         "legendgroup": "Elaboración de tortillas de maíz y molienda de nixtamal",
         "legendgrouptitle": {
          "text": "Elaboración de tortillas de maíz y molienda de nixtamal"
         },
         "marker": {
          "color": "greenyellow"
         },
         "name": "311830",
         "showlegend": false,
         "type": "bar",
         "x": [
          "311830"
         ],
         "xaxis": "x15",
         "y": [
          4237
         ],
         "yaxis": "y15"
        },
        {
         "hovertemplate": "<i>Total</i>: %{y}",
         "hovertext": "Panificación tradicional",
         "legendgroup": "Panificación tradicional",
         "legendgrouptitle": {
          "text": "Panificación tradicional"
         },
         "marker": {
          "color": "mediumslateblue"
         },
         "name": "311812",
         "showlegend": false,
         "type": "bar",
         "x": [
          "311812"
         ],
         "xaxis": "x15",
         "y": [
          1480
         ],
         "yaxis": "y15"
        },
        {
         "hovertemplate": "<i>Total</i>: %{y}",
         "hovertext": "Confección en serie de otra ropa exterior de materiales textiles",
         "legendgroup": "Confección en serie de otra ropa exterior de materiales textiles",
         "legendgrouptitle": {
          "text": "Confección en serie de otra ropa exterior de materiales textiles"
         },
         "marker": {
          "color": "tomato"
         },
         "name": "315229",
         "showlegend": true,
         "type": "bar",
         "x": [
          "315229"
         ],
         "xaxis": "x15",
         "y": [
          1234
         ],
         "yaxis": "y15"
        },
        {
         "hovertemplate": "<i>Total</i>: %{y}",
         "hovertext": "Fabricación de productos de herrería",
         "legendgroup": "Fabricación de productos de herrería",
         "legendgrouptitle": {
          "text": "Fabricación de productos de herrería"
         },
         "marker": {
          "color": "    orchid"
         },
         "name": "332320",
         "showlegend": false,
         "type": "bar",
         "x": [
          "332320"
         ],
         "xaxis": "x16",
         "y": [
          1112
         ],
         "yaxis": "y16"
        },
        {
         "hovertemplate": "<i>Total</i>: %{y}",
         "hovertext": "Elaboración de tortillas de maíz y molienda de nixtamal",
         "legendgroup": "Elaboración de tortillas de maíz y molienda de nixtamal",
         "legendgrouptitle": {
          "text": "Elaboración de tortillas de maíz y molienda de nixtamal"
         },
         "marker": {
          "color": "greenyellow"
         },
         "name": "311830",
         "showlegend": false,
         "type": "bar",
         "x": [
          "311830"
         ],
         "xaxis": "x16",
         "y": [
          913
         ],
         "yaxis": "y16"
        },
        {
         "hovertemplate": "<i>Total</i>: %{y}",
         "hovertext": "Panificación tradicional",
         "legendgroup": "Panificación tradicional",
         "legendgrouptitle": {
          "text": "Panificación tradicional"
         },
         "marker": {
          "color": "mediumslateblue"
         },
         "name": "311812",
         "showlegend": false,
         "type": "bar",
         "x": [
          "311812"
         ],
         "xaxis": "x16",
         "y": [
          633
         ],
         "yaxis": "y16"
        }
       ],
       "layout": {
        "annotations": [
         {
          "font": {
           "size": 16
          },
          "showarrow": false,
          "text": "Aguascalientes",
          "x": 0.10625,
          "xanchor": "center",
          "xref": "paper",
          "y": 1,
          "yanchor": "bottom",
          "yref": "paper"
         },
         {
          "font": {
           "size": 16
          },
          "showarrow": false,
          "text": "Colima",
          "x": 0.36875,
          "xanchor": "center",
          "xref": "paper",
          "y": 1,
          "yanchor": "bottom",
          "yref": "paper"
         },
         {
          "font": {
           "size": 16
          },
          "showarrow": false,
          "text": "Ciudad de México",
          "x": 0.6312500000000001,
          "xanchor": "center",
          "xref": "paper",
          "y": 1,
          "yanchor": "bottom",
          "yref": "paper"
         },
         {
          "font": {
           "size": 16
          },
          "showarrow": false,
          "text": "Durango",
          "x": 0.89375,
          "xanchor": "center",
          "xref": "paper",
          "y": 1,
          "yanchor": "bottom",
          "yref": "paper"
         },
         {
          "font": {
           "size": 16
          },
          "showarrow": false,
          "text": "Guanajuato",
          "x": 0.10625,
          "xanchor": "center",
          "xref": "paper",
          "y": 0.71875,
          "yanchor": "bottom",
          "yref": "paper"
         },
         {
          "font": {
           "size": 16
          },
          "showarrow": false,
          "text": "Hidalgo",
          "x": 0.36875,
          "xanchor": "center",
          "xref": "paper",
          "y": 0.71875,
          "yanchor": "bottom",
          "yref": "paper"
         },
         {
          "font": {
           "size": 16
          },
          "showarrow": false,
          "text": "Jalisco",
          "x": 0.6312500000000001,
          "xanchor": "center",
          "xref": "paper",
          "y": 0.71875,
          "yanchor": "bottom",
          "yref": "paper"
         },
         {
          "font": {
           "size": 16
          },
          "showarrow": false,
          "text": "México",
          "x": 0.89375,
          "xanchor": "center",
          "xref": "paper",
          "y": 0.71875,
          "yanchor": "bottom",
          "yref": "paper"
         },
         {
          "font": {
           "size": 16
          },
          "showarrow": false,
          "text": "Michoacán de Ocampo",
          "x": 0.10625,
          "xanchor": "center",
          "xref": "paper",
          "y": 0.4375,
          "yanchor": "bottom",
          "yref": "paper"
         },
         {
          "font": {
           "size": 16
          },
          "showarrow": false,
          "text": "Morelos",
          "x": 0.36875,
          "xanchor": "center",
          "xref": "paper",
          "y": 0.4375,
          "yanchor": "bottom",
          "yref": "paper"
         },
         {
          "font": {
           "size": 16
          },
          "showarrow": false,
          "text": "Nayarit",
          "x": 0.6312500000000001,
          "xanchor": "center",
          "xref": "paper",
          "y": 0.4375,
          "yanchor": "bottom",
          "yref": "paper"
         },
         {
          "font": {
           "size": 16
          },
          "showarrow": false,
          "text": "Querétaro",
          "x": 0.89375,
          "xanchor": "center",
          "xref": "paper",
          "y": 0.4375,
          "yanchor": "bottom",
          "yref": "paper"
         },
         {
          "font": {
           "size": 16
          },
          "showarrow": false,
          "text": "San Luis Potosí",
          "x": 0.10625,
          "xanchor": "center",
          "xref": "paper",
          "y": 0.15625,
          "yanchor": "bottom",
          "yref": "paper"
         },
         {
          "font": {
           "size": 16
          },
          "showarrow": false,
          "text": "Sinaloa",
          "x": 0.36875,
          "xanchor": "center",
          "xref": "paper",
          "y": 0.15625,
          "yanchor": "bottom",
          "yref": "paper"
         },
         {
          "font": {
           "size": 16
          },
          "showarrow": false,
          "text": "Tlaxcala",
          "x": 0.6312500000000001,
          "xanchor": "center",
          "xref": "paper",
          "y": 0.15625,
          "yanchor": "bottom",
          "yref": "paper"
         },
         {
          "font": {
           "size": 16
          },
          "showarrow": false,
          "text": "Zacatecas",
          "x": 0.89375,
          "xanchor": "center",
          "xref": "paper",
          "y": 0.15625,
          "yanchor": "bottom",
          "yref": "paper"
         }
        ],
        "height": 700,
        "legend": {
         "bgcolor": "whitesmoke",
         "bordercolor": "Black",
         "borderwidth": 1,
         "font": {
          "color": "black",
          "family": "Courier",
          "size": 12
         },
         "grouptitlefont": {
          "color": "black",
          "family": "Courier New, monospace",
          "size": 12
         },
         "title": {
          "font": {
           "family": "Courier New, monospace"
          },
          "text": "Activity Name"
         }
        },
        "template": {
         "data": {
          "bar": [
           {
            "error_x": {
             "color": "#2a3f5f"
            },
            "error_y": {
             "color": "#2a3f5f"
            },
            "marker": {
             "line": {
              "color": "#E5ECF6",
              "width": 0.5
             },
             "pattern": {
              "fillmode": "overlay",
              "size": 10,
              "solidity": 0.2
             }
            },
            "type": "bar"
           }
          ],
          "barpolar": [
           {
            "marker": {
             "line": {
              "color": "#E5ECF6",
              "width": 0.5
             },
             "pattern": {
              "fillmode": "overlay",
              "size": 10,
              "solidity": 0.2
             }
            },
            "type": "barpolar"
           }
          ],
          "carpet": [
           {
            "aaxis": {
             "endlinecolor": "#2a3f5f",
             "gridcolor": "white",
             "linecolor": "white",
             "minorgridcolor": "white",
             "startlinecolor": "#2a3f5f"
            },
            "baxis": {
             "endlinecolor": "#2a3f5f",
             "gridcolor": "white",
             "linecolor": "white",
             "minorgridcolor": "white",
             "startlinecolor": "#2a3f5f"
            },
            "type": "carpet"
           }
          ],
          "choropleth": [
           {
            "colorbar": {
             "outlinewidth": 0,
             "ticks": ""
            },
            "type": "choropleth"
           }
          ],
          "contour": [
           {
            "colorbar": {
             "outlinewidth": 0,
             "ticks": ""
            },
            "colorscale": [
             [
              0,
              "#0d0887"
             ],
             [
              0.1111111111111111,
              "#46039f"
             ],
             [
              0.2222222222222222,
              "#7201a8"
             ],
             [
              0.3333333333333333,
              "#9c179e"
             ],
             [
              0.4444444444444444,
              "#bd3786"
             ],
             [
              0.5555555555555556,
              "#d8576b"
             ],
             [
              0.6666666666666666,
              "#ed7953"
             ],
             [
              0.7777777777777778,
              "#fb9f3a"
             ],
             [
              0.8888888888888888,
              "#fdca26"
             ],
             [
              1,
              "#f0f921"
             ]
            ],
            "type": "contour"
           }
          ],
          "contourcarpet": [
           {
            "colorbar": {
             "outlinewidth": 0,
             "ticks": ""
            },
            "type": "contourcarpet"
           }
          ],
          "heatmap": [
           {
            "colorbar": {
             "outlinewidth": 0,
             "ticks": ""
            },
            "colorscale": [
             [
              0,
              "#0d0887"
             ],
             [
              0.1111111111111111,
              "#46039f"
             ],
             [
              0.2222222222222222,
              "#7201a8"
             ],
             [
              0.3333333333333333,
              "#9c179e"
             ],
             [
              0.4444444444444444,
              "#bd3786"
             ],
             [
              0.5555555555555556,
              "#d8576b"
             ],
             [
              0.6666666666666666,
              "#ed7953"
             ],
             [
              0.7777777777777778,
              "#fb9f3a"
             ],
             [
              0.8888888888888888,
              "#fdca26"
             ],
             [
              1,
              "#f0f921"
             ]
            ],
            "type": "heatmap"
           }
          ],
          "heatmapgl": [
           {
            "colorbar": {
             "outlinewidth": 0,
             "ticks": ""
            },
            "colorscale": [
             [
              0,
              "#0d0887"
             ],
             [
              0.1111111111111111,
              "#46039f"
             ],
             [
              0.2222222222222222,
              "#7201a8"
             ],
             [
              0.3333333333333333,
              "#9c179e"
             ],
             [
              0.4444444444444444,
              "#bd3786"
             ],
             [
              0.5555555555555556,
              "#d8576b"
             ],
             [
              0.6666666666666666,
              "#ed7953"
             ],
             [
              0.7777777777777778,
              "#fb9f3a"
             ],
             [
              0.8888888888888888,
              "#fdca26"
             ],
             [
              1,
              "#f0f921"
             ]
            ],
            "type": "heatmapgl"
           }
          ],
          "histogram": [
           {
            "marker": {
             "pattern": {
              "fillmode": "overlay",
              "size": 10,
              "solidity": 0.2
             }
            },
            "type": "histogram"
           }
          ],
          "histogram2d": [
           {
            "colorbar": {
             "outlinewidth": 0,
             "ticks": ""
            },
            "colorscale": [
             [
              0,
              "#0d0887"
             ],
             [
              0.1111111111111111,
              "#46039f"
             ],
             [
              0.2222222222222222,
              "#7201a8"
             ],
             [
              0.3333333333333333,
              "#9c179e"
             ],
             [
              0.4444444444444444,
              "#bd3786"
             ],
             [
              0.5555555555555556,
              "#d8576b"
             ],
             [
              0.6666666666666666,
              "#ed7953"
             ],
             [
              0.7777777777777778,
              "#fb9f3a"
             ],
             [
              0.8888888888888888,
              "#fdca26"
             ],
             [
              1,
              "#f0f921"
             ]
            ],
            "type": "histogram2d"
           }
          ],
          "histogram2dcontour": [
           {
            "colorbar": {
             "outlinewidth": 0,
             "ticks": ""
            },
            "colorscale": [
             [
              0,
              "#0d0887"
             ],
             [
              0.1111111111111111,
              "#46039f"
             ],
             [
              0.2222222222222222,
              "#7201a8"
             ],
             [
              0.3333333333333333,
              "#9c179e"
             ],
             [
              0.4444444444444444,
              "#bd3786"
             ],
             [
              0.5555555555555556,
              "#d8576b"
             ],
             [
              0.6666666666666666,
              "#ed7953"
             ],
             [
              0.7777777777777778,
              "#fb9f3a"
             ],
             [
              0.8888888888888888,
              "#fdca26"
             ],
             [
              1,
              "#f0f921"
             ]
            ],
            "type": "histogram2dcontour"
           }
          ],
          "mesh3d": [
           {
            "colorbar": {
             "outlinewidth": 0,
             "ticks": ""
            },
            "type": "mesh3d"
           }
          ],
          "parcoords": [
           {
            "line": {
             "colorbar": {
              "outlinewidth": 0,
              "ticks": ""
             }
            },
            "type": "parcoords"
           }
          ],
          "pie": [
           {
            "automargin": true,
            "type": "pie"
           }
          ],
          "scatter": [
           {
            "fillpattern": {
             "fillmode": "overlay",
             "size": 10,
             "solidity": 0.2
            },
            "type": "scatter"
           }
          ],
          "scatter3d": [
           {
            "line": {
             "colorbar": {
              "outlinewidth": 0,
              "ticks": ""
             }
            },
            "marker": {
             "colorbar": {
              "outlinewidth": 0,
              "ticks": ""
             }
            },
            "type": "scatter3d"
           }
          ],
          "scattercarpet": [
           {
            "marker": {
             "colorbar": {
              "outlinewidth": 0,
              "ticks": ""
             }
            },
            "type": "scattercarpet"
           }
          ],
          "scattergeo": [
           {
            "marker": {
             "colorbar": {
              "outlinewidth": 0,
              "ticks": ""
             }
            },
            "type": "scattergeo"
           }
          ],
          "scattergl": [
           {
            "marker": {
             "colorbar": {
              "outlinewidth": 0,
              "ticks": ""
             }
            },
            "type": "scattergl"
           }
          ],
          "scattermapbox": [
           {
            "marker": {
             "colorbar": {
              "outlinewidth": 0,
              "ticks": ""
             }
            },
            "type": "scattermapbox"
           }
          ],
          "scatterpolar": [
           {
            "marker": {
             "colorbar": {
              "outlinewidth": 0,
              "ticks": ""
             }
            },
            "type": "scatterpolar"
           }
          ],
          "scatterpolargl": [
           {
            "marker": {
             "colorbar": {
              "outlinewidth": 0,
              "ticks": ""
             }
            },
            "type": "scatterpolargl"
           }
          ],
          "scatterternary": [
           {
            "marker": {
             "colorbar": {
              "outlinewidth": 0,
              "ticks": ""
             }
            },
            "type": "scatterternary"
           }
          ],
          "surface": [
           {
            "colorbar": {
             "outlinewidth": 0,
             "ticks": ""
            },
            "colorscale": [
             [
              0,
              "#0d0887"
             ],
             [
              0.1111111111111111,
              "#46039f"
             ],
             [
              0.2222222222222222,
              "#7201a8"
             ],
             [
              0.3333333333333333,
              "#9c179e"
             ],
             [
              0.4444444444444444,
              "#bd3786"
             ],
             [
              0.5555555555555556,
              "#d8576b"
             ],
             [
              0.6666666666666666,
              "#ed7953"
             ],
             [
              0.7777777777777778,
              "#fb9f3a"
             ],
             [
              0.8888888888888888,
              "#fdca26"
             ],
             [
              1,
              "#f0f921"
             ]
            ],
            "type": "surface"
           }
          ],
          "table": [
           {
            "cells": {
             "fill": {
              "color": "#EBF0F8"
             },
             "line": {
              "color": "white"
             }
            },
            "header": {
             "fill": {
              "color": "#C8D4E3"
             },
             "line": {
              "color": "white"
             }
            },
            "type": "table"
           }
          ]
         },
         "layout": {
          "annotationdefaults": {
           "arrowcolor": "#2a3f5f",
           "arrowhead": 0,
           "arrowwidth": 1
          },
          "autotypenumbers": "strict",
          "coloraxis": {
           "colorbar": {
            "outlinewidth": 0,
            "ticks": ""
           }
          },
          "colorscale": {
           "diverging": [
            [
             0,
             "#8e0152"
            ],
            [
             0.1,
             "#c51b7d"
            ],
            [
             0.2,
             "#de77ae"
            ],
            [
             0.3,
             "#f1b6da"
            ],
            [
             0.4,
             "#fde0ef"
            ],
            [
             0.5,
             "#f7f7f7"
            ],
            [
             0.6,
             "#e6f5d0"
            ],
            [
             0.7,
             "#b8e186"
            ],
            [
             0.8,
             "#7fbc41"
            ],
            [
             0.9,
             "#4d9221"
            ],
            [
             1,
             "#276419"
            ]
           ],
           "sequential": [
            [
             0,
             "#0d0887"
            ],
            [
             0.1111111111111111,
             "#46039f"
            ],
            [
             0.2222222222222222,
             "#7201a8"
            ],
            [
             0.3333333333333333,
             "#9c179e"
            ],
            [
             0.4444444444444444,
             "#bd3786"
            ],
            [
             0.5555555555555556,
             "#d8576b"
            ],
            [
             0.6666666666666666,
             "#ed7953"
            ],
            [
             0.7777777777777778,
             "#fb9f3a"
            ],
            [
             0.8888888888888888,
             "#fdca26"
            ],
            [
             1,
             "#f0f921"
            ]
           ],
           "sequentialminus": [
            [
             0,
             "#0d0887"
            ],
            [
             0.1111111111111111,
             "#46039f"
            ],
            [
             0.2222222222222222,
             "#7201a8"
            ],
            [
             0.3333333333333333,
             "#9c179e"
            ],
            [
             0.4444444444444444,
             "#bd3786"
            ],
            [
             0.5555555555555556,
             "#d8576b"
            ],
            [
             0.6666666666666666,
             "#ed7953"
            ],
            [
             0.7777777777777778,
             "#fb9f3a"
            ],
            [
             0.8888888888888888,
             "#fdca26"
            ],
            [
             1,
             "#f0f921"
            ]
           ]
          },
          "colorway": [
           "#636efa",
           "#EF553B",
           "#00cc96",
           "#ab63fa",
           "#FFA15A",
           "#19d3f3",
           "#FF6692",
           "#B6E880",
           "#FF97FF",
           "#FECB52"
          ],
          "font": {
           "color": "#2a3f5f"
          },
          "geo": {
           "bgcolor": "white",
           "lakecolor": "white",
           "landcolor": "#E5ECF6",
           "showlakes": true,
           "showland": true,
           "subunitcolor": "white"
          },
          "hoverlabel": {
           "align": "left"
          },
          "hovermode": "closest",
          "mapbox": {
           "style": "light"
          },
          "paper_bgcolor": "white",
          "plot_bgcolor": "#E5ECF6",
          "polar": {
           "angularaxis": {
            "gridcolor": "white",
            "linecolor": "white",
            "ticks": ""
           },
           "bgcolor": "#E5ECF6",
           "radialaxis": {
            "gridcolor": "white",
            "linecolor": "white",
            "ticks": ""
           }
          },
          "scene": {
           "xaxis": {
            "backgroundcolor": "#E5ECF6",
            "gridcolor": "white",
            "gridwidth": 2,
            "linecolor": "white",
            "showbackground": true,
            "ticks": "",
            "zerolinecolor": "white"
           },
           "yaxis": {
            "backgroundcolor": "#E5ECF6",
            "gridcolor": "white",
            "gridwidth": 2,
            "linecolor": "white",
            "showbackground": true,
            "ticks": "",
            "zerolinecolor": "white"
           },
           "zaxis": {
            "backgroundcolor": "#E5ECF6",
            "gridcolor": "white",
            "gridwidth": 2,
            "linecolor": "white",
            "showbackground": true,
            "ticks": "",
            "zerolinecolor": "white"
           }
          },
          "shapedefaults": {
           "line": {
            "color": "#2a3f5f"
           }
          },
          "ternary": {
           "aaxis": {
            "gridcolor": "white",
            "linecolor": "white",
            "ticks": ""
           },
           "baxis": {
            "gridcolor": "white",
            "linecolor": "white",
            "ticks": ""
           },
           "bgcolor": "#E5ECF6",
           "caxis": {
            "gridcolor": "white",
            "linecolor": "white",
            "ticks": ""
           }
          },
          "title": {
           "x": 0.05
          },
          "xaxis": {
           "automargin": true,
           "gridcolor": "white",
           "linecolor": "white",
           "ticks": "",
           "title": {
            "standoff": 15
           },
           "zerolinecolor": "white",
           "zerolinewidth": 2
          },
          "yaxis": {
           "automargin": true,
           "gridcolor": "white",
           "linecolor": "white",
           "ticks": "",
           "title": {
            "standoff": 15
           },
           "zerolinecolor": "white",
           "zerolinewidth": 2
          }
         }
        },
        "title": {
         "text": "Región centro"
        },
        "xaxis": {
         "anchor": "y",
         "domain": [
          0,
          0.2125
         ],
         "title": {
          "font": {
           "size": 13
          },
          "text": "Activity Code"
         }
        },
        "xaxis10": {
         "anchor": "y10",
         "domain": [
          0.2625,
          0.475
         ],
         "title": {
          "font": {
           "size": 13
          },
          "text": "Activity Code"
         }
        },
        "xaxis11": {
         "anchor": "y11",
         "domain": [
          0.525,
          0.7375
         ],
         "title": {
          "font": {
           "size": 13
          },
          "text": "Activity Code"
         }
        },
        "xaxis12": {
         "anchor": "y12",
         "domain": [
          0.7875,
          1
         ],
         "title": {
          "font": {
           "size": 13
          },
          "text": "Activity Code"
         }
        },
        "xaxis13": {
         "anchor": "y13",
         "domain": [
          0,
          0.2125
         ],
         "title": {
          "font": {
           "size": 13
          },
          "text": "Activity Code"
         }
        },
        "xaxis14": {
         "anchor": "y14",
         "domain": [
          0.2625,
          0.475
         ],
         "title": {
          "font": {
           "size": 13
          },
          "text": "Activity Code"
         }
        },
        "xaxis15": {
         "anchor": "y15",
         "domain": [
          0.525,
          0.7375
         ],
         "title": {
          "font": {
           "size": 13
          },
          "text": "Activity Code"
         }
        },
        "xaxis16": {
         "anchor": "y16",
         "domain": [
          0.7875,
          1
         ],
         "title": {
          "font": {
           "size": 13
          },
          "text": "Activity Code"
         }
        },
        "xaxis2": {
         "anchor": "y2",
         "domain": [
          0.2625,
          0.475
         ],
         "title": {
          "font": {
           "size": 13
          },
          "text": "Activity Code"
         }
        },
        "xaxis3": {
         "anchor": "y3",
         "domain": [
          0.525,
          0.7375
         ],
         "title": {
          "font": {
           "size": 13
          },
          "text": "Activity Code"
         }
        },
        "xaxis4": {
         "anchor": "y4",
         "domain": [
          0.7875,
          1
         ],
         "title": {
          "font": {
           "size": 13
          },
          "text": "Activity Code"
         }
        },
        "xaxis5": {
         "anchor": "y5",
         "domain": [
          0,
          0.2125
         ],
         "title": {
          "font": {
           "size": 13
          },
          "text": "Activity Code"
         }
        },
        "xaxis6": {
         "anchor": "y6",
         "domain": [
          0.2625,
          0.475
         ],
         "title": {
          "font": {
           "size": 13
          },
          "text": "Activity Code"
         }
        },
        "xaxis7": {
         "anchor": "y7",
         "domain": [
          0.525,
          0.7375
         ],
         "title": {
          "font": {
           "size": 13
          },
          "text": "Activity Code"
         }
        },
        "xaxis8": {
         "anchor": "y8",
         "domain": [
          0.7875,
          1
         ],
         "title": {
          "font": {
           "size": 13
          },
          "text": "Activity Code"
         }
        },
        "xaxis9": {
         "anchor": "y9",
         "domain": [
          0,
          0.2125
         ],
         "title": {
          "font": {
           "size": 13
          },
          "text": "Activity Code"
         }
        },
        "yaxis": {
         "anchor": "x",
         "domain": [
          0.84375,
          1
         ],
         "title": {
          "font": {
           "size": 13
          },
          "text": "Total Industries"
         }
        },
        "yaxis10": {
         "anchor": "x10",
         "domain": [
          0.28125,
          0.4375
         ]
        },
        "yaxis11": {
         "anchor": "x11",
         "domain": [
          0.28125,
          0.4375
         ]
        },
        "yaxis12": {
         "anchor": "x12",
         "domain": [
          0.28125,
          0.4375
         ]
        },
        "yaxis13": {
         "anchor": "x13",
         "domain": [
          0,
          0.15625
         ],
         "title": {
          "font": {
           "size": 13
          },
          "text": "Total Industries"
         }
        },
        "yaxis14": {
         "anchor": "x14",
         "domain": [
          0,
          0.15625
         ]
        },
        "yaxis15": {
         "anchor": "x15",
         "domain": [
          0,
          0.15625
         ]
        },
        "yaxis16": {
         "anchor": "x16",
         "domain": [
          0,
          0.15625
         ]
        },
        "yaxis2": {
         "anchor": "x2",
         "domain": [
          0.84375,
          1
         ]
        },
        "yaxis3": {
         "anchor": "x3",
         "domain": [
          0.84375,
          1
         ]
        },
        "yaxis4": {
         "anchor": "x4",
         "domain": [
          0.84375,
          1
         ]
        },
        "yaxis5": {
         "anchor": "x5",
         "domain": [
          0.5625,
          0.71875
         ],
         "title": {
          "font": {
           "size": 13
          },
          "text": "Total Industries"
         }
        },
        "yaxis6": {
         "anchor": "x6",
         "domain": [
          0.5625,
          0.71875
         ]
        },
        "yaxis7": {
         "anchor": "x7",
         "domain": [
          0.5625,
          0.71875
         ]
        },
        "yaxis8": {
         "anchor": "x8",
         "domain": [
          0.5625,
          0.71875
         ]
        },
        "yaxis9": {
         "anchor": "x9",
         "domain": [
          0.28125,
          0.4375
         ],
         "title": {
          "font": {
           "size": 13
          },
          "text": "Total Industries"
         }
        }
       }
      }
     },
     "metadata": {},
     "output_type": "display_data"
    }
   ],
   "source": [
    "graphRegionPlotly(df, \"centro\")"
   ]
  },
  {
   "cell_type": "markdown",
   "metadata": {},
   "source": [
    "El gráfico anterior nos muestra que el código **311830** se encuentra en todos los estados de la región centro, seguido por el **311812** que se encuentra en 11 de los 12 estados, con eso podriamos inferir que las actividades que corresponden a esos códigos son las que predominan en la región centro.\n",
    "\n",
    "Pero al revisar la siguiente tabla, notamos que la frecuencia relativa del código **311830** se encuentra aproximadamente 8.2% arriba que la del **311812**, lo cual nos dice que la actividad predominante en la región centro le pertecene a la **Elaboración de tortillas de maíz y molienda de nixtamal**."
   ]
  },
  {
   "cell_type": "code",
   "execution_count": 26,
   "metadata": {},
   "outputs": [
    {
     "data": {
      "text/html": [
       "<div>\n",
       "<style scoped>\n",
       "    .dataframe tbody tr th:only-of-type {\n",
       "        vertical-align: middle;\n",
       "    }\n",
       "\n",
       "    .dataframe tbody tr th {\n",
       "        vertical-align: top;\n",
       "    }\n",
       "\n",
       "    .dataframe thead th {\n",
       "        text-align: right;\n",
       "    }\n",
       "</style>\n",
       "<table border=\"1\" class=\"dataframe\">\n",
       "  <thead>\n",
       "    <tr style=\"text-align: right;\">\n",
       "      <th></th>\n",
       "      <th>activity_name</th>\n",
       "      <th>total_registers</th>\n",
       "      <th>relative frequency</th>\n",
       "    </tr>\n",
       "  </thead>\n",
       "  <tbody>\n",
       "    <tr>\n",
       "      <th>67</th>\n",
       "      <td>Elaboración de tortillas de maíz y molienda de...</td>\n",
       "      <td>56280</td>\n",
       "      <td>18.484094</td>\n",
       "    </tr>\n",
       "    <tr>\n",
       "      <th>279</th>\n",
       "      <td>Panificación tradicional</td>\n",
       "      <td>31174</td>\n",
       "      <td>10.238507</td>\n",
       "    </tr>\n",
       "    <tr>\n",
       "      <th>224</th>\n",
       "      <td>Fabricación de productos de herrería</td>\n",
       "      <td>30722</td>\n",
       "      <td>10.090056</td>\n",
       "    </tr>\n",
       "    <tr>\n",
       "      <th>285</th>\n",
       "      <td>Purificación y embotellado de agua</td>\n",
       "      <td>14303</td>\n",
       "      <td>4.697548</td>\n",
       "    </tr>\n",
       "    <tr>\n",
       "      <th>184</th>\n",
       "      <td>Fabricación de muebles, excepto cocinas integr...</td>\n",
       "      <td>14092</td>\n",
       "      <td>4.628249</td>\n",
       "    </tr>\n",
       "  </tbody>\n",
       "</table>\n",
       "</div>"
      ],
      "text/plain": [
       "                                         activity_name  total_registers  \\\n",
       "67   Elaboración de tortillas de maíz y molienda de...            56280   \n",
       "279                           Panificación tradicional            31174   \n",
       "224               Fabricación de productos de herrería            30722   \n",
       "285                 Purificación y embotellado de agua            14303   \n",
       "184  Fabricación de muebles, excepto cocinas integr...            14092   \n",
       "\n",
       "     relative frequency  \n",
       "67            18.484094  \n",
       "279           10.238507  \n",
       "224           10.090056  \n",
       "285            4.697548  \n",
       "184            4.628249  "
      ]
     },
     "execution_count": 26,
     "metadata": {},
     "output_type": "execute_result"
    }
   ],
   "source": [
    "central_region = regionFilter('centro')\n",
    "central_region"
   ]
  },
  {
   "cell_type": "code",
   "execution_count": 32,
   "metadata": {},
   "outputs": [
    {
     "data": {
      "application/vnd.plotly.v1+json": {
       "config": {
        "plotlyServerURL": "https://plot.ly"
       },
       "data": [
        {
         "hovertemplate": "<i>Total</i>: %{y}",
         "hovertext": "Elaboración de tortillas de maíz y molienda de nixtamal",
         "legendgroup": "Elaboración de tortillas de maíz y molienda de nixtamal",
         "legendgrouptitle": {
          "text": "Elaboración de tortillas de maíz y molienda de nixtamal"
         },
         "marker": {
          "color": "darkturquoise"
         },
         "name": "311830",
         "showlegend": true,
         "type": "bar",
         "x": [
          "311830"
         ],
         "xaxis": "x",
         "y": [
          544
         ],
         "yaxis": "y"
        },
        {
         "hovertemplate": "<i>Total</i>: %{y}",
         "hovertext": "Panificación tradicional",
         "legendgroup": "Panificación tradicional",
         "legendgrouptitle": {
          "text": "Panificación tradicional"
         },
         "marker": {
          "color": "darkslategray"
         },
         "name": "311812",
         "showlegend": true,
         "type": "bar",
         "x": [
          "311812"
         ],
         "xaxis": "x",
         "y": [
          478
         ],
         "yaxis": "y"
        },
        {
         "hovertemplate": "<i>Total</i>: %{y}",
         "hovertext": "Fabricación de redes y otros productos de cordelería",
         "legendgroup": "Fabricación de redes y otros productos de cordelería",
         "legendgrouptitle": {
          "text": "Fabricación de redes y otros productos de cordelería"
         },
         "marker": {
          "color": "    orchid"
         },
         "name": "314992",
         "showlegend": true,
         "type": "bar",
         "x": [
          "314992"
         ],
         "xaxis": "x",
         "y": [
          429
         ],
         "yaxis": "y"
        },
        {
         "hovertemplate": "<i>Total</i>: %{y}",
         "hovertext": "Elaboración de tortillas de maíz y molienda de nixtamal",
         "legendgroup": "Elaboración de tortillas de maíz y molienda de nixtamal",
         "legendgrouptitle": {
          "text": "Elaboración de tortillas de maíz y molienda de nixtamal"
         },
         "marker": {
          "color": "darkturquoise"
         },
         "name": "311830",
         "showlegend": false,
         "type": "bar",
         "x": [
          "311830"
         ],
         "xaxis": "x2",
         "y": [
          4140
         ],
         "yaxis": "y2"
        },
        {
         "hovertemplate": "<i>Total</i>: %{y}",
         "hovertext": "Fabricación de productos de herrería",
         "legendgroup": "Fabricación de productos de herrería",
         "legendgrouptitle": {
          "text": "Fabricación de productos de herrería"
         },
         "marker": {
          "color": "    seagreen"
         },
         "name": "332320",
         "showlegend": true,
         "type": "bar",
         "x": [
          "332320"
         ],
         "xaxis": "x2",
         "y": [
          2819
         ],
         "yaxis": "y2"
        },
        {
         "hovertemplate": "<i>Total</i>: %{y}",
         "hovertext": "Panificación tradicional",
         "legendgroup": "Panificación tradicional",
         "legendgrouptitle": {
          "text": "Panificación tradicional"
         },
         "marker": {
          "color": "darkslategray"
         },
         "name": "311812",
         "showlegend": false,
         "type": "bar",
         "x": [
          "311812"
         ],
         "xaxis": "x2",
         "y": [
          2649
         ],
         "yaxis": "y2"
        },
        {
         "hovertemplate": "<i>Total</i>: %{y}",
         "hovertext": "Preparación e hilado de fibras duras naturales",
         "legendgroup": "Preparación e hilado de fibras duras naturales",
         "legendgrouptitle": {
          "text": "Preparación e hilado de fibras duras naturales"
         },
         "marker": {
          "color": "grey"
         },
         "name": "313111",
         "showlegend": true,
         "type": "bar",
         "x": [
          "313111"
         ],
         "xaxis": "x3",
         "y": [
          6938
         ],
         "yaxis": "y3"
        },
        {
         "hovertemplate": "<i>Total</i>: %{y}",
         "hovertext": "Elaboración de tortillas de maíz y molienda de nixtamal",
         "legendgroup": "Elaboración de tortillas de maíz y molienda de nixtamal",
         "legendgrouptitle": {
          "text": "Elaboración de tortillas de maíz y molienda de nixtamal"
         },
         "marker": {
          "color": "darkturquoise"
         },
         "name": "311830",
         "showlegend": false,
         "type": "bar",
         "x": [
          "311830"
         ],
         "xaxis": "x3",
         "y": [
          5337
         ],
         "yaxis": "y3"
        },
        {
         "hovertemplate": "<i>Total</i>: %{y}",
         "hovertext": "Confección, bordado y deshilado de productos textiles",
         "legendgroup": "Confección, bordado y deshilado de productos textiles",
         "legendgrouptitle": {
          "text": "Confección, bordado y deshilado de productos textiles"
         },
         "marker": {
          "color": "grey"
         },
         "name": "314991",
         "showlegend": true,
         "type": "bar",
         "x": [
          "314991"
         ],
         "xaxis": "x3",
         "y": [
          4131
         ],
         "yaxis": "y3"
        },
        {
         "hovertemplate": "<i>Total</i>: %{y}",
         "hovertext": "Elaboración de tortillas de maíz y molienda de nixtamal",
         "legendgroup": "Elaboración de tortillas de maíz y molienda de nixtamal",
         "legendgrouptitle": {
          "text": "Elaboración de tortillas de maíz y molienda de nixtamal"
         },
         "marker": {
          "color": "darkturquoise"
         },
         "name": "311830",
         "showlegend": false,
         "type": "bar",
         "x": [
          "311830"
         ],
         "xaxis": "x4",
         "y": [
          14494
         ],
         "yaxis": "y4"
        },
        {
         "hovertemplate": "<i>Total</i>: %{y}",
         "hovertext": "Confección, bordado y deshilado de productos textiles",
         "legendgroup": "Confección, bordado y deshilado de productos textiles",
         "legendgrouptitle": {
          "text": "Confección, bordado y deshilado de productos textiles"
         },
         "marker": {
          "color": "grey"
         },
         "name": "314991",
         "showlegend": false,
         "type": "bar",
         "x": [
          "314991"
         ],
         "xaxis": "x4",
         "y": [
          6286
         ],
         "yaxis": "y4"
        },
        {
         "hovertemplate": "<i>Total</i>: %{y}",
         "hovertext": "Preparación e hilado de fibras duras naturales",
         "legendgroup": "Preparación e hilado de fibras duras naturales",
         "legendgrouptitle": {
          "text": "Preparación e hilado de fibras duras naturales"
         },
         "marker": {
          "color": "grey"
         },
         "name": "313111",
         "showlegend": false,
         "type": "bar",
         "x": [
          "313111"
         ],
         "xaxis": "x4",
         "y": [
          4939
         ],
         "yaxis": "y4"
        },
        {
         "hovertemplate": "<i>Total</i>: %{y}",
         "hovertext": "Elaboración de tortillas de maíz y molienda de nixtamal",
         "legendgroup": "Elaboración de tortillas de maíz y molienda de nixtamal",
         "legendgrouptitle": {
          "text": "Elaboración de tortillas de maíz y molienda de nixtamal"
         },
         "marker": {
          "color": "darkturquoise"
         },
         "name": "311830",
         "showlegend": false,
         "type": "bar",
         "x": [
          "311830"
         ],
         "xaxis": "x5",
         "y": [
          12730
         ],
         "yaxis": "y5"
        },
        {
         "hovertemplate": "<i>Total</i>: %{y}",
         "hovertext": "Panificación tradicional",
         "legendgroup": "Panificación tradicional",
         "legendgrouptitle": {
          "text": "Panificación tradicional"
         },
         "marker": {
          "color": "darkslategray"
         },
         "name": "311812",
         "showlegend": false,
         "type": "bar",
         "x": [
          "311812"
         ],
         "xaxis": "x5",
         "y": [
          4719
         ],
         "yaxis": "y5"
        },
        {
         "hovertemplate": "<i>Total</i>: %{y}",
         "hovertext": "Confección en serie de otra ropa exterior de materiales textiles",
         "legendgroup": "Confección en serie de otra ropa exterior de materiales textiles",
         "legendgrouptitle": {
          "text": "Confección en serie de otra ropa exterior de materiales textiles"
         },
         "marker": {
          "color": "tomato"
         },
         "name": "315229",
         "showlegend": true,
         "type": "bar",
         "x": [
          "315229"
         ],
         "xaxis": "x5",
         "y": [
          4071
         ],
         "yaxis": "y5"
        },
        {
         "hovertemplate": "<i>Total</i>: %{y}",
         "hovertext": "Elaboración de tortillas de maíz y molienda de nixtamal",
         "legendgroup": "Elaboración de tortillas de maíz y molienda de nixtamal",
         "legendgrouptitle": {
          "text": "Elaboración de tortillas de maíz y molienda de nixtamal"
         },
         "marker": {
          "color": "darkturquoise"
         },
         "name": "311830",
         "showlegend": false,
         "type": "bar",
         "x": [
          "311830"
         ],
         "xaxis": "x6",
         "y": [
          804
         ],
         "yaxis": "y6"
        },
        {
         "hovertemplate": "<i>Total</i>: %{y}",
         "hovertext": "Fabricación de productos de herrería",
         "legendgroup": "Fabricación de productos de herrería",
         "legendgrouptitle": {
          "text": "Fabricación de productos de herrería"
         },
         "marker": {
          "color": "    seagreen"
         },
         "name": "332320",
         "showlegend": false,
         "type": "bar",
         "x": [
          "332320"
         ],
         "xaxis": "x6",
         "y": [
          489
         ],
         "yaxis": "y6"
        },
        {
         "hovertemplate": "<i>Total</i>: %{y}",
         "hovertext": "Panificación tradicional",
         "legendgroup": "Panificación tradicional",
         "legendgrouptitle": {
          "text": "Panificación tradicional"
         },
         "marker": {
          "color": "darkslategray"
         },
         "name": "311812",
         "showlegend": false,
         "type": "bar",
         "x": [
          "311812"
         ],
         "xaxis": "x6",
         "y": [
          396
         ],
         "yaxis": "y6"
        },
        {
         "hovertemplate": "<i>Total</i>: %{y}",
         "hovertext": "Fabricación de productos de herrería",
         "legendgroup": "Fabricación de productos de herrería",
         "legendgrouptitle": {
          "text": "Fabricación de productos de herrería"
         },
         "marker": {
          "color": "    seagreen"
         },
         "name": "332320",
         "showlegend": false,
         "type": "bar",
         "x": [
          "332320"
         ],
         "xaxis": "x7",
         "y": [
          1164
         ],
         "yaxis": "y7"
        },
        {
         "hovertemplate": "<i>Total</i>: %{y}",
         "hovertext": "Elaboración de tortillas de maíz y molienda de nixtamal",
         "legendgroup": "Elaboración de tortillas de maíz y molienda de nixtamal",
         "legendgrouptitle": {
          "text": "Elaboración de tortillas de maíz y molienda de nixtamal"
         },
         "marker": {
          "color": "darkturquoise"
         },
         "name": "311830",
         "showlegend": false,
         "type": "bar",
         "x": [
          "311830"
         ],
         "xaxis": "x7",
         "y": [
          1027
         ],
         "yaxis": "y7"
        },
        {
         "hovertemplate": "<i>Total</i>: %{y}",
         "hovertext": "Panificación tradicional",
         "legendgroup": "Panificación tradicional",
         "legendgrouptitle": {
          "text": "Panificación tradicional"
         },
         "marker": {
          "color": "darkslategray"
         },
         "name": "311812",
         "showlegend": false,
         "type": "bar",
         "x": [
          "311812"
         ],
         "xaxis": "x7",
         "y": [
          943
         ],
         "yaxis": "y7"
        },
        {
         "hovertemplate": "<i>Total</i>: %{y}",
         "hovertext": "Elaboración de tortillas de maíz y molienda de nixtamal",
         "legendgroup": "Elaboración de tortillas de maíz y molienda de nixtamal",
         "legendgrouptitle": {
          "text": "Elaboración de tortillas de maíz y molienda de nixtamal"
         },
         "marker": {
          "color": "darkturquoise"
         },
         "name": "311830",
         "showlegend": false,
         "type": "bar",
         "x": [
          "311830"
         ],
         "xaxis": "x8",
         "y": [
          6232
         ],
         "yaxis": "y8"
        },
        {
         "hovertemplate": "<i>Total</i>: %{y}",
         "hovertext": "Panificación tradicional",
         "legendgroup": "Panificación tradicional",
         "legendgrouptitle": {
          "text": "Panificación tradicional"
         },
         "marker": {
          "color": "darkslategray"
         },
         "name": "311812",
         "showlegend": false,
         "type": "bar",
         "x": [
          "311812"
         ],
         "xaxis": "x8",
         "y": [
          4972
         ],
         "yaxis": "y8"
        },
        {
         "hovertemplate": "<i>Total</i>: %{y}",
         "hovertext": "Fabricación de productos de herrería",
         "legendgroup": "Fabricación de productos de herrería",
         "legendgrouptitle": {
          "text": "Fabricación de productos de herrería"
         },
         "marker": {
          "color": "    seagreen"
         },
         "name": "332320",
         "showlegend": false,
         "type": "bar",
         "x": [
          "332320"
         ],
         "xaxis": "x8",
         "y": [
          3667
         ],
         "yaxis": "y8"
        },
        {
         "hovertemplate": "<i>Total</i>: %{y}",
         "hovertext": "Confección, bordado y deshilado de productos textiles",
         "legendgroup": "Confección, bordado y deshilado de productos textiles",
         "legendgrouptitle": {
          "text": "Confección, bordado y deshilado de productos textiles"
         },
         "marker": {
          "color": "grey"
         },
         "name": "314991",
         "showlegend": false,
         "type": "bar",
         "x": [
          "314991"
         ],
         "xaxis": "x9",
         "y": [
          7188
         ],
         "yaxis": "y9"
        },
        {
         "hovertemplate": "<i>Total</i>: %{y}",
         "hovertext": "Fabricación de redes y otros productos de cordelería",
         "legendgroup": "Fabricación de redes y otros productos de cordelería",
         "legendgrouptitle": {
          "text": "Fabricación de redes y otros productos de cordelería"
         },
         "marker": {
          "color": "    orchid"
         },
         "name": "314992",
         "showlegend": false,
         "type": "bar",
         "x": [
          "314992"
         ],
         "xaxis": "x9",
         "y": [
          6941
         ],
         "yaxis": "y9"
        },
        {
         "hovertemplate": "<i>Total</i>: %{y}",
         "hovertext": "Elaboración de tortillas de maíz y molienda de nixtamal",
         "legendgroup": "Elaboración de tortillas de maíz y molienda de nixtamal",
         "legendgrouptitle": {
          "text": "Elaboración de tortillas de maíz y molienda de nixtamal"
         },
         "marker": {
          "color": "darkturquoise"
         },
         "name": "311830",
         "showlegend": false,
         "type": "bar",
         "x": [
          "311830"
         ],
         "xaxis": "x9",
         "y": [
          2021
         ],
         "yaxis": "y9"
        }
       ],
       "layout": {
        "annotations": [
         {
          "font": {
           "size": 16
          },
          "showarrow": false,
          "text": "Campeche",
          "x": 0.14444444444444446,
          "xanchor": "center",
          "xref": "paper",
          "y": 1,
          "yanchor": "bottom",
          "yref": "paper"
         },
         {
          "font": {
           "size": 16
          },
          "showarrow": false,
          "text": "Chiapas",
          "x": 0.5,
          "xanchor": "center",
          "xref": "paper",
          "y": 1,
          "yanchor": "bottom",
          "yref": "paper"
         },
         {
          "font": {
           "size": 16
          },
          "showarrow": false,
          "text": "Guerrero",
          "x": 0.8555555555555556,
          "xanchor": "center",
          "xref": "paper",
          "y": 1,
          "yanchor": "bottom",
          "yref": "paper"
         },
         {
          "font": {
           "size": 16
          },
          "showarrow": false,
          "text": "Oaxaca",
          "x": 0.14444444444444446,
          "xanchor": "center",
          "xref": "paper",
          "y": 0.6111111111111112,
          "yanchor": "bottom",
          "yref": "paper"
         },
         {
          "font": {
           "size": 16
          },
          "showarrow": false,
          "text": "Puebla",
          "x": 0.5,
          "xanchor": "center",
          "xref": "paper",
          "y": 0.6111111111111112,
          "yanchor": "bottom",
          "yref": "paper"
         },
         {
          "font": {
           "size": 16
          },
          "showarrow": false,
          "text": "Quintana Roo",
          "x": 0.8555555555555556,
          "xanchor": "center",
          "xref": "paper",
          "y": 0.6111111111111112,
          "yanchor": "bottom",
          "yref": "paper"
         },
         {
          "font": {
           "size": 16
          },
          "showarrow": false,
          "text": "Tabasco",
          "x": 0.14444444444444446,
          "xanchor": "center",
          "xref": "paper",
          "y": 0.22222222222222224,
          "yanchor": "bottom",
          "yref": "paper"
         },
         {
          "font": {
           "size": 16
          },
          "showarrow": false,
          "text": "Veracruz de Ignacio de la Llave",
          "x": 0.5,
          "xanchor": "center",
          "xref": "paper",
          "y": 0.22222222222222224,
          "yanchor": "bottom",
          "yref": "paper"
         },
         {
          "font": {
           "size": 16
          },
          "showarrow": false,
          "text": "Yucatán",
          "x": 0.8555555555555556,
          "xanchor": "center",
          "xref": "paper",
          "y": 0.22222222222222224,
          "yanchor": "bottom",
          "yref": "paper"
         }
        ],
        "height": 700,
        "legend": {
         "bgcolor": "whitesmoke",
         "bordercolor": "Black",
         "borderwidth": 1,
         "font": {
          "color": "black",
          "family": "Courier",
          "size": 12
         },
         "grouptitlefont": {
          "color": "black",
          "family": "Courier New, monospace",
          "size": 12
         },
         "title": {
          "font": {
           "family": "Courier New, monospace"
          },
          "text": "Activity Name"
         }
        },
        "template": {
         "data": {
          "bar": [
           {
            "error_x": {
             "color": "#2a3f5f"
            },
            "error_y": {
             "color": "#2a3f5f"
            },
            "marker": {
             "line": {
              "color": "#E5ECF6",
              "width": 0.5
             },
             "pattern": {
              "fillmode": "overlay",
              "size": 10,
              "solidity": 0.2
             }
            },
            "type": "bar"
           }
          ],
          "barpolar": [
           {
            "marker": {
             "line": {
              "color": "#E5ECF6",
              "width": 0.5
             },
             "pattern": {
              "fillmode": "overlay",
              "size": 10,
              "solidity": 0.2
             }
            },
            "type": "barpolar"
           }
          ],
          "carpet": [
           {
            "aaxis": {
             "endlinecolor": "#2a3f5f",
             "gridcolor": "white",
             "linecolor": "white",
             "minorgridcolor": "white",
             "startlinecolor": "#2a3f5f"
            },
            "baxis": {
             "endlinecolor": "#2a3f5f",
             "gridcolor": "white",
             "linecolor": "white",
             "minorgridcolor": "white",
             "startlinecolor": "#2a3f5f"
            },
            "type": "carpet"
           }
          ],
          "choropleth": [
           {
            "colorbar": {
             "outlinewidth": 0,
             "ticks": ""
            },
            "type": "choropleth"
           }
          ],
          "contour": [
           {
            "colorbar": {
             "outlinewidth": 0,
             "ticks": ""
            },
            "colorscale": [
             [
              0,
              "#0d0887"
             ],
             [
              0.1111111111111111,
              "#46039f"
             ],
             [
              0.2222222222222222,
              "#7201a8"
             ],
             [
              0.3333333333333333,
              "#9c179e"
             ],
             [
              0.4444444444444444,
              "#bd3786"
             ],
             [
              0.5555555555555556,
              "#d8576b"
             ],
             [
              0.6666666666666666,
              "#ed7953"
             ],
             [
              0.7777777777777778,
              "#fb9f3a"
             ],
             [
              0.8888888888888888,
              "#fdca26"
             ],
             [
              1,
              "#f0f921"
             ]
            ],
            "type": "contour"
           }
          ],
          "contourcarpet": [
           {
            "colorbar": {
             "outlinewidth": 0,
             "ticks": ""
            },
            "type": "contourcarpet"
           }
          ],
          "heatmap": [
           {
            "colorbar": {
             "outlinewidth": 0,
             "ticks": ""
            },
            "colorscale": [
             [
              0,
              "#0d0887"
             ],
             [
              0.1111111111111111,
              "#46039f"
             ],
             [
              0.2222222222222222,
              "#7201a8"
             ],
             [
              0.3333333333333333,
              "#9c179e"
             ],
             [
              0.4444444444444444,
              "#bd3786"
             ],
             [
              0.5555555555555556,
              "#d8576b"
             ],
             [
              0.6666666666666666,
              "#ed7953"
             ],
             [
              0.7777777777777778,
              "#fb9f3a"
             ],
             [
              0.8888888888888888,
              "#fdca26"
             ],
             [
              1,
              "#f0f921"
             ]
            ],
            "type": "heatmap"
           }
          ],
          "heatmapgl": [
           {
            "colorbar": {
             "outlinewidth": 0,
             "ticks": ""
            },
            "colorscale": [
             [
              0,
              "#0d0887"
             ],
             [
              0.1111111111111111,
              "#46039f"
             ],
             [
              0.2222222222222222,
              "#7201a8"
             ],
             [
              0.3333333333333333,
              "#9c179e"
             ],
             [
              0.4444444444444444,
              "#bd3786"
             ],
             [
              0.5555555555555556,
              "#d8576b"
             ],
             [
              0.6666666666666666,
              "#ed7953"
             ],
             [
              0.7777777777777778,
              "#fb9f3a"
             ],
             [
              0.8888888888888888,
              "#fdca26"
             ],
             [
              1,
              "#f0f921"
             ]
            ],
            "type": "heatmapgl"
           }
          ],
          "histogram": [
           {
            "marker": {
             "pattern": {
              "fillmode": "overlay",
              "size": 10,
              "solidity": 0.2
             }
            },
            "type": "histogram"
           }
          ],
          "histogram2d": [
           {
            "colorbar": {
             "outlinewidth": 0,
             "ticks": ""
            },
            "colorscale": [
             [
              0,
              "#0d0887"
             ],
             [
              0.1111111111111111,
              "#46039f"
             ],
             [
              0.2222222222222222,
              "#7201a8"
             ],
             [
              0.3333333333333333,
              "#9c179e"
             ],
             [
              0.4444444444444444,
              "#bd3786"
             ],
             [
              0.5555555555555556,
              "#d8576b"
             ],
             [
              0.6666666666666666,
              "#ed7953"
             ],
             [
              0.7777777777777778,
              "#fb9f3a"
             ],
             [
              0.8888888888888888,
              "#fdca26"
             ],
             [
              1,
              "#f0f921"
             ]
            ],
            "type": "histogram2d"
           }
          ],
          "histogram2dcontour": [
           {
            "colorbar": {
             "outlinewidth": 0,
             "ticks": ""
            },
            "colorscale": [
             [
              0,
              "#0d0887"
             ],
             [
              0.1111111111111111,
              "#46039f"
             ],
             [
              0.2222222222222222,
              "#7201a8"
             ],
             [
              0.3333333333333333,
              "#9c179e"
             ],
             [
              0.4444444444444444,
              "#bd3786"
             ],
             [
              0.5555555555555556,
              "#d8576b"
             ],
             [
              0.6666666666666666,
              "#ed7953"
             ],
             [
              0.7777777777777778,
              "#fb9f3a"
             ],
             [
              0.8888888888888888,
              "#fdca26"
             ],
             [
              1,
              "#f0f921"
             ]
            ],
            "type": "histogram2dcontour"
           }
          ],
          "mesh3d": [
           {
            "colorbar": {
             "outlinewidth": 0,
             "ticks": ""
            },
            "type": "mesh3d"
           }
          ],
          "parcoords": [
           {
            "line": {
             "colorbar": {
              "outlinewidth": 0,
              "ticks": ""
             }
            },
            "type": "parcoords"
           }
          ],
          "pie": [
           {
            "automargin": true,
            "type": "pie"
           }
          ],
          "scatter": [
           {
            "fillpattern": {
             "fillmode": "overlay",
             "size": 10,
             "solidity": 0.2
            },
            "type": "scatter"
           }
          ],
          "scatter3d": [
           {
            "line": {
             "colorbar": {
              "outlinewidth": 0,
              "ticks": ""
             }
            },
            "marker": {
             "colorbar": {
              "outlinewidth": 0,
              "ticks": ""
             }
            },
            "type": "scatter3d"
           }
          ],
          "scattercarpet": [
           {
            "marker": {
             "colorbar": {
              "outlinewidth": 0,
              "ticks": ""
             }
            },
            "type": "scattercarpet"
           }
          ],
          "scattergeo": [
           {
            "marker": {
             "colorbar": {
              "outlinewidth": 0,
              "ticks": ""
             }
            },
            "type": "scattergeo"
           }
          ],
          "scattergl": [
           {
            "marker": {
             "colorbar": {
              "outlinewidth": 0,
              "ticks": ""
             }
            },
            "type": "scattergl"
           }
          ],
          "scattermapbox": [
           {
            "marker": {
             "colorbar": {
              "outlinewidth": 0,
              "ticks": ""
             }
            },
            "type": "scattermapbox"
           }
          ],
          "scatterpolar": [
           {
            "marker": {
             "colorbar": {
              "outlinewidth": 0,
              "ticks": ""
             }
            },
            "type": "scatterpolar"
           }
          ],
          "scatterpolargl": [
           {
            "marker": {
             "colorbar": {
              "outlinewidth": 0,
              "ticks": ""
             }
            },
            "type": "scatterpolargl"
           }
          ],
          "scatterternary": [
           {
            "marker": {
             "colorbar": {
              "outlinewidth": 0,
              "ticks": ""
             }
            },
            "type": "scatterternary"
           }
          ],
          "surface": [
           {
            "colorbar": {
             "outlinewidth": 0,
             "ticks": ""
            },
            "colorscale": [
             [
              0,
              "#0d0887"
             ],
             [
              0.1111111111111111,
              "#46039f"
             ],
             [
              0.2222222222222222,
              "#7201a8"
             ],
             [
              0.3333333333333333,
              "#9c179e"
             ],
             [
              0.4444444444444444,
              "#bd3786"
             ],
             [
              0.5555555555555556,
              "#d8576b"
             ],
             [
              0.6666666666666666,
              "#ed7953"
             ],
             [
              0.7777777777777778,
              "#fb9f3a"
             ],
             [
              0.8888888888888888,
              "#fdca26"
             ],
             [
              1,
              "#f0f921"
             ]
            ],
            "type": "surface"
           }
          ],
          "table": [
           {
            "cells": {
             "fill": {
              "color": "#EBF0F8"
             },
             "line": {
              "color": "white"
             }
            },
            "header": {
             "fill": {
              "color": "#C8D4E3"
             },
             "line": {
              "color": "white"
             }
            },
            "type": "table"
           }
          ]
         },
         "layout": {
          "annotationdefaults": {
           "arrowcolor": "#2a3f5f",
           "arrowhead": 0,
           "arrowwidth": 1
          },
          "autotypenumbers": "strict",
          "coloraxis": {
           "colorbar": {
            "outlinewidth": 0,
            "ticks": ""
           }
          },
          "colorscale": {
           "diverging": [
            [
             0,
             "#8e0152"
            ],
            [
             0.1,
             "#c51b7d"
            ],
            [
             0.2,
             "#de77ae"
            ],
            [
             0.3,
             "#f1b6da"
            ],
            [
             0.4,
             "#fde0ef"
            ],
            [
             0.5,
             "#f7f7f7"
            ],
            [
             0.6,
             "#e6f5d0"
            ],
            [
             0.7,
             "#b8e186"
            ],
            [
             0.8,
             "#7fbc41"
            ],
            [
             0.9,
             "#4d9221"
            ],
            [
             1,
             "#276419"
            ]
           ],
           "sequential": [
            [
             0,
             "#0d0887"
            ],
            [
             0.1111111111111111,
             "#46039f"
            ],
            [
             0.2222222222222222,
             "#7201a8"
            ],
            [
             0.3333333333333333,
             "#9c179e"
            ],
            [
             0.4444444444444444,
             "#bd3786"
            ],
            [
             0.5555555555555556,
             "#d8576b"
            ],
            [
             0.6666666666666666,
             "#ed7953"
            ],
            [
             0.7777777777777778,
             "#fb9f3a"
            ],
            [
             0.8888888888888888,
             "#fdca26"
            ],
            [
             1,
             "#f0f921"
            ]
           ],
           "sequentialminus": [
            [
             0,
             "#0d0887"
            ],
            [
             0.1111111111111111,
             "#46039f"
            ],
            [
             0.2222222222222222,
             "#7201a8"
            ],
            [
             0.3333333333333333,
             "#9c179e"
            ],
            [
             0.4444444444444444,
             "#bd3786"
            ],
            [
             0.5555555555555556,
             "#d8576b"
            ],
            [
             0.6666666666666666,
             "#ed7953"
            ],
            [
             0.7777777777777778,
             "#fb9f3a"
            ],
            [
             0.8888888888888888,
             "#fdca26"
            ],
            [
             1,
             "#f0f921"
            ]
           ]
          },
          "colorway": [
           "#636efa",
           "#EF553B",
           "#00cc96",
           "#ab63fa",
           "#FFA15A",
           "#19d3f3",
           "#FF6692",
           "#B6E880",
           "#FF97FF",
           "#FECB52"
          ],
          "font": {
           "color": "#2a3f5f"
          },
          "geo": {
           "bgcolor": "white",
           "lakecolor": "white",
           "landcolor": "#E5ECF6",
           "showlakes": true,
           "showland": true,
           "subunitcolor": "white"
          },
          "hoverlabel": {
           "align": "left"
          },
          "hovermode": "closest",
          "mapbox": {
           "style": "light"
          },
          "paper_bgcolor": "white",
          "plot_bgcolor": "#E5ECF6",
          "polar": {
           "angularaxis": {
            "gridcolor": "white",
            "linecolor": "white",
            "ticks": ""
           },
           "bgcolor": "#E5ECF6",
           "radialaxis": {
            "gridcolor": "white",
            "linecolor": "white",
            "ticks": ""
           }
          },
          "scene": {
           "xaxis": {
            "backgroundcolor": "#E5ECF6",
            "gridcolor": "white",
            "gridwidth": 2,
            "linecolor": "white",
            "showbackground": true,
            "ticks": "",
            "zerolinecolor": "white"
           },
           "yaxis": {
            "backgroundcolor": "#E5ECF6",
            "gridcolor": "white",
            "gridwidth": 2,
            "linecolor": "white",
            "showbackground": true,
            "ticks": "",
            "zerolinecolor": "white"
           },
           "zaxis": {
            "backgroundcolor": "#E5ECF6",
            "gridcolor": "white",
            "gridwidth": 2,
            "linecolor": "white",
            "showbackground": true,
            "ticks": "",
            "zerolinecolor": "white"
           }
          },
          "shapedefaults": {
           "line": {
            "color": "#2a3f5f"
           }
          },
          "ternary": {
           "aaxis": {
            "gridcolor": "white",
            "linecolor": "white",
            "ticks": ""
           },
           "baxis": {
            "gridcolor": "white",
            "linecolor": "white",
            "ticks": ""
           },
           "bgcolor": "#E5ECF6",
           "caxis": {
            "gridcolor": "white",
            "linecolor": "white",
            "ticks": ""
           }
          },
          "title": {
           "x": 0.05
          },
          "xaxis": {
           "automargin": true,
           "gridcolor": "white",
           "linecolor": "white",
           "ticks": "",
           "title": {
            "standoff": 15
           },
           "zerolinecolor": "white",
           "zerolinewidth": 2
          },
          "yaxis": {
           "automargin": true,
           "gridcolor": "white",
           "linecolor": "white",
           "ticks": "",
           "title": {
            "standoff": 15
           },
           "zerolinecolor": "white",
           "zerolinewidth": 2
          }
         }
        },
        "title": {
         "text": "Región sur"
        },
        "xaxis": {
         "anchor": "y",
         "domain": [
          0,
          0.2888888888888889
         ],
         "title": {
          "font": {
           "size": 13
          },
          "text": "Activity Code"
         }
        },
        "xaxis2": {
         "anchor": "y2",
         "domain": [
          0.35555555555555557,
          0.6444444444444445
         ],
         "title": {
          "font": {
           "size": 13
          },
          "text": "Activity Code"
         }
        },
        "xaxis3": {
         "anchor": "y3",
         "domain": [
          0.7111111111111111,
          1
         ],
         "title": {
          "font": {
           "size": 13
          },
          "text": "Activity Code"
         }
        },
        "xaxis4": {
         "anchor": "y4",
         "domain": [
          0,
          0.2888888888888889
         ],
         "title": {
          "font": {
           "size": 13
          },
          "text": "Activity Code"
         }
        },
        "xaxis5": {
         "anchor": "y5",
         "domain": [
          0.35555555555555557,
          0.6444444444444445
         ],
         "title": {
          "font": {
           "size": 13
          },
          "text": "Activity Code"
         }
        },
        "xaxis6": {
         "anchor": "y6",
         "domain": [
          0.7111111111111111,
          1
         ],
         "title": {
          "font": {
           "size": 13
          },
          "text": "Activity Code"
         }
        },
        "xaxis7": {
         "anchor": "y7",
         "domain": [
          0,
          0.2888888888888889
         ],
         "title": {
          "font": {
           "size": 13
          },
          "text": "Activity Code"
         }
        },
        "xaxis8": {
         "anchor": "y8",
         "domain": [
          0.35555555555555557,
          0.6444444444444445
         ],
         "title": {
          "font": {
           "size": 13
          },
          "text": "Activity Code"
         }
        },
        "xaxis9": {
         "anchor": "y9",
         "domain": [
          0.7111111111111111,
          1
         ],
         "title": {
          "font": {
           "size": 13
          },
          "text": "Activity Code"
         }
        },
        "yaxis": {
         "anchor": "x",
         "domain": [
          0.7777777777777778,
          1
         ],
         "title": {
          "font": {
           "size": 13
          },
          "text": "Total Industries"
         }
        },
        "yaxis2": {
         "anchor": "x2",
         "domain": [
          0.7777777777777778,
          1
         ]
        },
        "yaxis3": {
         "anchor": "x3",
         "domain": [
          0.7777777777777778,
          1
         ]
        },
        "yaxis4": {
         "anchor": "x4",
         "domain": [
          0.3888888888888889,
          0.6111111111111112
         ],
         "title": {
          "font": {
           "size": 13
          },
          "text": "Total Industries"
         }
        },
        "yaxis5": {
         "anchor": "x5",
         "domain": [
          0.3888888888888889,
          0.6111111111111112
         ]
        },
        "yaxis6": {
         "anchor": "x6",
         "domain": [
          0.3888888888888889,
          0.6111111111111112
         ]
        },
        "yaxis7": {
         "anchor": "x7",
         "domain": [
          0,
          0.22222222222222224
         ],
         "title": {
          "font": {
           "size": 13
          },
          "text": "Total Industries"
         }
        },
        "yaxis8": {
         "anchor": "x8",
         "domain": [
          0,
          0.22222222222222224
         ]
        },
        "yaxis9": {
         "anchor": "x9",
         "domain": [
          0,
          0.22222222222222224
         ]
        }
       }
      }
     },
     "metadata": {},
     "output_type": "display_data"
    }
   ],
   "source": [
    "graphRegionPlotly(df, \"sur\")"
   ]
  },
  {
   "cell_type": "code",
   "execution_count": 28,
   "metadata": {},
   "outputs": [
    {
     "data": {
      "text/html": [
       "<div>\n",
       "<style scoped>\n",
       "    .dataframe tbody tr th:only-of-type {\n",
       "        vertical-align: middle;\n",
       "    }\n",
       "\n",
       "    .dataframe tbody tr th {\n",
       "        vertical-align: top;\n",
       "    }\n",
       "\n",
       "    .dataframe thead th {\n",
       "        text-align: right;\n",
       "    }\n",
       "</style>\n",
       "<table border=\"1\" class=\"dataframe\">\n",
       "  <thead>\n",
       "    <tr style=\"text-align: right;\">\n",
       "      <th></th>\n",
       "      <th>activity_name</th>\n",
       "      <th>total_registers</th>\n",
       "      <th>relative frequency</th>\n",
       "    </tr>\n",
       "  </thead>\n",
       "  <tbody>\n",
       "    <tr>\n",
       "      <th>65</th>\n",
       "      <td>Elaboración de tortillas de maíz y molienda de...</td>\n",
       "      <td>47329</td>\n",
       "      <td>20.054831</td>\n",
       "    </tr>\n",
       "    <tr>\n",
       "      <th>268</th>\n",
       "      <td>Panificación tradicional</td>\n",
       "      <td>23152</td>\n",
       "      <td>9.810253</td>\n",
       "    </tr>\n",
       "    <tr>\n",
       "      <th>19</th>\n",
       "      <td>Confección, bordado y deshilado de productos t...</td>\n",
       "      <td>20483</td>\n",
       "      <td>8.679311</td>\n",
       "    </tr>\n",
       "    <tr>\n",
       "      <th>215</th>\n",
       "      <td>Fabricación de productos de herrería</td>\n",
       "      <td>18840</td>\n",
       "      <td>7.983119</td>\n",
       "    </tr>\n",
       "    <tr>\n",
       "      <th>271</th>\n",
       "      <td>Preparación e hilado de fibras duras naturales</td>\n",
       "      <td>15509</td>\n",
       "      <td>6.571666</td>\n",
       "    </tr>\n",
       "  </tbody>\n",
       "</table>\n",
       "</div>"
      ],
      "text/plain": [
       "                                         activity_name  total_registers  \\\n",
       "65   Elaboración de tortillas de maíz y molienda de...            47329   \n",
       "268                           Panificación tradicional            23152   \n",
       "19   Confección, bordado y deshilado de productos t...            20483   \n",
       "215               Fabricación de productos de herrería            18840   \n",
       "271     Preparación e hilado de fibras duras naturales            15509   \n",
       "\n",
       "     relative frequency  \n",
       "65            20.054831  \n",
       "268            9.810253  \n",
       "19             8.679311  \n",
       "215            7.983119  \n",
       "271            6.571666  "
      ]
     },
     "execution_count": 28,
     "metadata": {},
     "output_type": "execute_result"
    }
   ],
   "source": [
    "southern_region = regionFilter('sur')\n",
    "southern_region\n"
   ]
  },
  {
   "cell_type": "markdown",
   "metadata": {},
   "source": [
    "En la región sur a diferencia de las otras dos regiones, en su gráfica se puede observar una clara actividad dominante, ya que se encuentra en los 9 estados que la conforman, y además sólo una actividad más alcanza a llegar a 6 de 9 estados.\n",
    "\n",
    "Así como analizando la tabla descubrimos que tiene una frecuencia relativa 10.2% mayor que la del top 2, por lo cual en la región norte la actividad que predomina es: **Elaboración de tortillas de maíz y molienda de nixtamal** y asu vez coincide con la actividad de la región centro."
   ]
  },
  {
   "cell_type": "code",
   "execution_count": 29,
   "metadata": {},
   "outputs": [],
   "source": [
    "if not os.path.exists('data'):\n",
    "        os.mkdir('data')\n",
    "        cols_to_use = ['codigo_act', 'nombre_act', 'cve_ent', 'entidad', 'region', 'registration year']\n",
    "        df.to_csv('data/denue_inegi.csv', encoding='UTF-8', index=False, columns=cols_to_use)\n",
    "        shutil.rmtree('dataset-zip/conjunto_de_datos')\n",
    "        shutil.rmtree('dataset-zip/diccionario_de_datos')\n",
    "        shutil.rmtree('dataset-zip/metadatos')\n",
    "        os.remove('dataset-zip/denue_inegi.csv')"
   ]
  },
  {
   "cell_type": "markdown",
   "metadata": {},
   "source": [
    "Creamos el dataset que sera utilizado por la aplicación del dashboard"
   ]
  }
 ],
 "metadata": {
  "kernelspec": {
   "display_name": "Python 3.10.6 ('dashboards')",
   "language": "python",
   "name": "python3"
  },
  "language_info": {
   "codemirror_mode": {
    "name": "ipython",
    "version": 3
   },
   "file_extension": ".py",
   "mimetype": "text/x-python",
   "name": "python",
   "nbconvert_exporter": "python",
   "pygments_lexer": "ipython3",
   "version": "3.10.6"
  },
  "orig_nbformat": 4,
  "vscode": {
   "interpreter": {
    "hash": "cc44aceef406b8112e7fa2c515963271eff92d9851082d707fa9eb1c944dc4ea"
   }
  }
 },
 "nbformat": 4,
 "nbformat_minor": 2
}
